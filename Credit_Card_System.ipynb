{
 "cells": [
  {
   "cell_type": "markdown",
   "metadata": {},
   "source": [
    "This program uses Pyspark SQL to extract customer, branch and card data from the provided json file."
   ]
  },
  {
   "cell_type": "code",
   "execution_count": 13,
   "metadata": {},
   "outputs": [],
   "source": [
    "# Import libraries \n",
    "import pyspark\n",
    "from pyspark.sql import SparkSession\n",
    "import pandas as pd\n",
    "from pyspark.sql.types import *\n",
    "from pyspark.sql.functions import * "
   ]
  },
  {
   "cell_type": "markdown",
   "metadata": {},
   "source": [
    "# 1. Functional Requirements - Load Credit Card Database (SQL)"
   ]
  },
  {
   "cell_type": "markdown",
   "metadata": {},
   "source": [
    "<b>Data Extraction and Transformation with Python and PySpark. </b><br>\n",
    "For “Credit Card System,” create a Python and PySpark SQL program to read/extract the following JSON files according to the specifications found in the mapping document.\n",
    "1. CDW_SAPP_BRANCH.JSON <br>\n",
    "2. CDW_SAPP_CREDITCARD.JSON <br>\n",
    "3. CDW_SAPP_CUSTOMER.JSON <br>\n",
    "Note: Data Engineers will be required to transform the data based on the requirements found in the Mapping Document.\n",
    "Hint: [You can use PYSQL “select statement query” or simple Pyspark RDD]."
   ]
  },
  {
   "cell_type": "code",
   "execution_count": 14,
   "metadata": {},
   "outputs": [],
   "source": [
    "# Application to create Dataframes from source\n",
    "spark = SparkSession.builder.master('local[1]').appName('CreditCardSystems').getOrCreate() \n",
    "\n",
    "# Extract the JSON files branch, credit and customer into a dataframe\n",
    "df_branch = spark.read.json('cdw_sapp_branch.json')  \n",
    "df_credit = spark.read.json('cdw_sapp_credit.json') \n",
    "df_customer = spark.read.json('cdw_sapp_customer.json')\n"
   ]
  },
  {
   "cell_type": "code",
   "execution_count": 33,
   "metadata": {},
   "outputs": [
    {
     "name": "stdout",
     "output_type": "stream",
     "text": [
      "+----------+-----------+---------+\n",
      "|FIRST_NAME|MIDDLE_NAME|LAST_NAME|\n",
      "+----------+-----------+---------+\n",
      "|      Alec|         wm|   Hooper|\n",
      "|      Etta|    brendan|   Holman|\n",
      "|    Wilber|   ezequiel|   Dunham|\n",
      "|   Eugenio|      trina|    Hardy|\n",
      "|   Wilfred|        may|    Ayers|\n",
      "|      Beau|    ambrose|  Woodard|\n",
      "|    Sheila|      larry|     Kemp|\n",
      "|     Wendy|        ora|   Hurley|\n",
      "|      Alec|     tracie|  Gilmore|\n",
      "|    Barbra|    mitchel|      Lau|\n",
      "+----------+-----------+---------+\n",
      "only showing top 10 rows\n",
      "\n"
     ]
    }
   ],
   "source": [
    "# Adjust acording to the mapping document \n",
    "\n",
    "# Convert first and last name to Title Case and middle name to lower case\n",
    "df_customer = df_customer.withColumn(\"FIRST_NAME\", initcap(df_customer[\"FIRST_NAME\"]))\n",
    "df_customer = df_customer.withColumn(\"MIDDLE_NAME\", lower(df_customer.MIDDLE_NAME))\n",
    "df_customer = df_customer.withColumn(\"LAST_NAME\", initcap(df_customer[\"LAST_NAME\"]))\n",
    "df_customer.select(\"FIRST_NAME\", \"MIDDLE_NAME\",\"LAST_NAME\").show(10)"
   ]
  },
  {
   "cell_type": "code",
   "execution_count": 32,
   "metadata": {},
   "outputs": [
    {
     "name": "stdout",
     "output_type": "stream",
     "text": [
      "+--------------------+\n",
      "| FULL_STREET_ADDRESS|\n",
      "+--------------------+\n",
      "|656,Main Street N...|\n",
      "|   829,Redwood Drive|\n",
      "|683,12th Street East|\n",
      "|253,Country Club ...|\n",
      "|  301,Madison Street|\n",
      "|    3,Colonial Drive|\n",
      "|   84,Belmont Avenue|\n",
      "|    728,Oxford Court|\n",
      "|    81,Forest Street|\n",
      "|    561,Court Street|\n",
      "+--------------------+\n",
      "only showing top 10 rows\n",
      "\n"
     ]
    }
   ],
   "source": [
    "# Create a new column called FULL_STREET_ADDRESS and put apartment # and street name with comma separating them\n",
    "df_customer = df_customer.withColumn(\"FULL_STREET_ADDRESS\", concat(df_customer[\"APT_NO\"], lit(\",\") , df_customer[\"STREET_NAME\"]))\n",
    "df_customer.select(\"FULL_STREET_ADDRESS\").show(10)"
   ]
  },
  {
   "cell_type": "markdown",
   "metadata": {},
   "source": [
    "<b>Data loading into Database </b><br>\n",
    "Once PySpark reads data from JSON files, and then utilizes Python, PySpark, and Python modules to load data into RDBMS(SQL), perform\n",
    "the following: <br>\n",
    "a) Create a Database in SQL(MariaDB), named “creditcard_capstone.” <br>\n",
    "b) Create a Python and Pyspark Program to load/write the “Credit Card System Data” into RDBMS(creditcard_capstone). <br>\n",
    "Tables should be created by the following names in RDBMS: <br>\n",
    "CDW_SAPP_BRANCH <br>\n",
    "CDW_SAPP_CREDIT_CARD <br>\n",
    "CDW_SAPP_CUSTOMER <br>"
   ]
  },
  {
   "cell_type": "code",
   "execution_count": 23,
   "metadata": {},
   "outputs": [],
   "source": [
    "# Create the table CDW_SAPP_BRANCH \n",
    "df_branch.write.format(\"jdbc\") \\\n",
    ".mode(\"append\") \\\n",
    ".option(\"url\", \"jdbc:mysql://localhost:3306/creditcard_capstone\") \\\n",
    ".option(\"dbtable\", \"creditcard_capstone.CDW_SAPP_BRANCH\") \\\n",
    ".option(\"user\", \"root\") \\\n",
    ".option(\"password\", \"a\") \\\n",
    ".save()"
   ]
  },
  {
   "cell_type": "code",
   "execution_count": 24,
   "metadata": {},
   "outputs": [],
   "source": [
    "# Create the table CDW_SAPP_CREDIT_CARD \n",
    "df_credit.write.format(\"jdbc\") \\\n",
    ".mode(\"append\") \\\n",
    ".option(\"url\", \"jdbc:mysql://localhost:3306/creditcard_capstone\") \\\n",
    ".option(\"dbtable\", \"creditcard_capstone.CDW_SAPP_CREDIT_CARD\") \\\n",
    ".option(\"user\", \"root\") \\\n",
    ".option(\"password\", \"a\") \\\n",
    ".save()"
   ]
  },
  {
   "cell_type": "code",
   "execution_count": 30,
   "metadata": {},
   "outputs": [
    {
     "ename": "AnalysisException",
     "evalue": "Column \"FULL_STREET_ADDRESS\" not found in schema Some(StructType(StructField(APT_NO,StringType,true),StructField(CREDIT_CARD_NO,StringType,true),StructField(CUST_CITY,StringType,true),StructField(CUST_COUNTRY,StringType,true),StructField(CUST_EMAIL,StringType,true),StructField(CUST_PHONE,LongType,true),StructField(CUST_STATE,StringType,true),StructField(CUST_ZIP,StringType,true),StructField(FIRST_NAME,StringType,true),StructField(LAST_NAME,StringType,true),StructField(LAST_UPDATED,StringType,true),StructField(MIDDLE_NAME,StringType,true),StructField(SSN,LongType,true),StructField(STREET_NAME,StringType,true)))",
     "output_type": "error",
     "traceback": [
      "\u001b[1;31m---------------------------------------------------------------------------\u001b[0m",
      "\u001b[1;31mAnalysisException\u001b[0m                         Traceback (most recent call last)",
      "\u001b[1;32mc:\\Users\\Neez\\Documents\\GitHub\\Cap_Sone_Project\\Credit_Card_System.ipynb Cell 15\u001b[0m in \u001b[0;36m<cell line: 2>\u001b[1;34m()\u001b[0m\n\u001b[0;32m      <a href='vscode-notebook-cell:/c%3A/Users/Neez/Documents/GitHub/Cap_Sone_Project/Credit_Card_System.ipynb#X20sZmlsZQ%3D%3D?line=0'>1</a>\u001b[0m \u001b[39m# Create the table CDW_SAPP_CUSTOMER \u001b[39;00m\n\u001b[0;32m      <a href='vscode-notebook-cell:/c%3A/Users/Neez/Documents/GitHub/Cap_Sone_Project/Credit_Card_System.ipynb#X20sZmlsZQ%3D%3D?line=1'>2</a>\u001b[0m df_customer\u001b[39m.\u001b[39;49mwrite\u001b[39m.\u001b[39;49mformat(\u001b[39m\"\u001b[39;49m\u001b[39mjdbc\u001b[39;49m\u001b[39m\"\u001b[39;49m) \\\n\u001b[0;32m      <a href='vscode-notebook-cell:/c%3A/Users/Neez/Documents/GitHub/Cap_Sone_Project/Credit_Card_System.ipynb#X20sZmlsZQ%3D%3D?line=2'>3</a>\u001b[0m \u001b[39m.\u001b[39;49mmode(\u001b[39m\"\u001b[39;49m\u001b[39mappend\u001b[39;49m\u001b[39m\"\u001b[39;49m) \\\n\u001b[0;32m      <a href='vscode-notebook-cell:/c%3A/Users/Neez/Documents/GitHub/Cap_Sone_Project/Credit_Card_System.ipynb#X20sZmlsZQ%3D%3D?line=3'>4</a>\u001b[0m \u001b[39m.\u001b[39;49moption(\u001b[39m\"\u001b[39;49m\u001b[39murl\u001b[39;49m\u001b[39m\"\u001b[39;49m, \u001b[39m\"\u001b[39;49m\u001b[39mjdbc:mysql://localhost:3306/creditcard_capstone\u001b[39;49m\u001b[39m\"\u001b[39;49m) \\\n\u001b[0;32m      <a href='vscode-notebook-cell:/c%3A/Users/Neez/Documents/GitHub/Cap_Sone_Project/Credit_Card_System.ipynb#X20sZmlsZQ%3D%3D?line=4'>5</a>\u001b[0m \u001b[39m.\u001b[39;49moption(\u001b[39m\"\u001b[39;49m\u001b[39mdbtable\u001b[39;49m\u001b[39m\"\u001b[39;49m, \u001b[39m\"\u001b[39;49m\u001b[39mcreditcard_capstone.CDW_SAPP_CUSTOMER\u001b[39;49m\u001b[39m\"\u001b[39;49m) \\\n\u001b[0;32m      <a href='vscode-notebook-cell:/c%3A/Users/Neez/Documents/GitHub/Cap_Sone_Project/Credit_Card_System.ipynb#X20sZmlsZQ%3D%3D?line=5'>6</a>\u001b[0m \u001b[39m.\u001b[39;49moption(\u001b[39m\"\u001b[39;49m\u001b[39muser\u001b[39;49m\u001b[39m\"\u001b[39;49m, \u001b[39m\"\u001b[39;49m\u001b[39mroot\u001b[39;49m\u001b[39m\"\u001b[39;49m) \\\n\u001b[0;32m      <a href='vscode-notebook-cell:/c%3A/Users/Neez/Documents/GitHub/Cap_Sone_Project/Credit_Card_System.ipynb#X20sZmlsZQ%3D%3D?line=6'>7</a>\u001b[0m \u001b[39m.\u001b[39;49moption(\u001b[39m\"\u001b[39;49m\u001b[39mpassword\u001b[39;49m\u001b[39m\"\u001b[39;49m, \u001b[39m\"\u001b[39;49m\u001b[39ma\u001b[39;49m\u001b[39m\"\u001b[39;49m) \\\n\u001b[1;32m----> <a href='vscode-notebook-cell:/c%3A/Users/Neez/Documents/GitHub/Cap_Sone_Project/Credit_Card_System.ipynb#X20sZmlsZQ%3D%3D?line=7'>8</a>\u001b[0m \u001b[39m.\u001b[39;49msave()\n",
      "File \u001b[1;32m~\\AppData\\Local\\Packages\\PythonSoftwareFoundation.Python.3.10_qbz5n2kfra8p0\\LocalCache\\local-packages\\Python310\\site-packages\\pyspark\\sql\\readwriter.py:966\u001b[0m, in \u001b[0;36mDataFrameWriter.save\u001b[1;34m(self, path, format, mode, partitionBy, **options)\u001b[0m\n\u001b[0;32m    964\u001b[0m     \u001b[39mself\u001b[39m\u001b[39m.\u001b[39mformat(\u001b[39mformat\u001b[39m)\n\u001b[0;32m    965\u001b[0m \u001b[39mif\u001b[39;00m path \u001b[39mis\u001b[39;00m \u001b[39mNone\u001b[39;00m:\n\u001b[1;32m--> 966\u001b[0m     \u001b[39mself\u001b[39;49m\u001b[39m.\u001b[39;49m_jwrite\u001b[39m.\u001b[39;49msave()\n\u001b[0;32m    967\u001b[0m \u001b[39melse\u001b[39;00m:\n\u001b[0;32m    968\u001b[0m     \u001b[39mself\u001b[39m\u001b[39m.\u001b[39m_jwrite\u001b[39m.\u001b[39msave(path)\n",
      "File \u001b[1;32m~\\AppData\\Local\\Packages\\PythonSoftwareFoundation.Python.3.10_qbz5n2kfra8p0\\LocalCache\\local-packages\\Python310\\site-packages\\py4j\\java_gateway.py:1321\u001b[0m, in \u001b[0;36mJavaMember.__call__\u001b[1;34m(self, *args)\u001b[0m\n\u001b[0;32m   1315\u001b[0m command \u001b[39m=\u001b[39m proto\u001b[39m.\u001b[39mCALL_COMMAND_NAME \u001b[39m+\u001b[39m\\\n\u001b[0;32m   1316\u001b[0m     \u001b[39mself\u001b[39m\u001b[39m.\u001b[39mcommand_header \u001b[39m+\u001b[39m\\\n\u001b[0;32m   1317\u001b[0m     args_command \u001b[39m+\u001b[39m\\\n\u001b[0;32m   1318\u001b[0m     proto\u001b[39m.\u001b[39mEND_COMMAND_PART\n\u001b[0;32m   1320\u001b[0m answer \u001b[39m=\u001b[39m \u001b[39mself\u001b[39m\u001b[39m.\u001b[39mgateway_client\u001b[39m.\u001b[39msend_command(command)\n\u001b[1;32m-> 1321\u001b[0m return_value \u001b[39m=\u001b[39m get_return_value(\n\u001b[0;32m   1322\u001b[0m     answer, \u001b[39mself\u001b[39;49m\u001b[39m.\u001b[39;49mgateway_client, \u001b[39mself\u001b[39;49m\u001b[39m.\u001b[39;49mtarget_id, \u001b[39mself\u001b[39;49m\u001b[39m.\u001b[39;49mname)\n\u001b[0;32m   1324\u001b[0m \u001b[39mfor\u001b[39;00m temp_arg \u001b[39min\u001b[39;00m temp_args:\n\u001b[0;32m   1325\u001b[0m     temp_arg\u001b[39m.\u001b[39m_detach()\n",
      "File \u001b[1;32m~\\AppData\\Local\\Packages\\PythonSoftwareFoundation.Python.3.10_qbz5n2kfra8p0\\LocalCache\\local-packages\\Python310\\site-packages\\pyspark\\sql\\utils.py:196\u001b[0m, in \u001b[0;36mcapture_sql_exception.<locals>.deco\u001b[1;34m(*a, **kw)\u001b[0m\n\u001b[0;32m    192\u001b[0m converted \u001b[39m=\u001b[39m convert_exception(e\u001b[39m.\u001b[39mjava_exception)\n\u001b[0;32m    193\u001b[0m \u001b[39mif\u001b[39;00m \u001b[39mnot\u001b[39;00m \u001b[39misinstance\u001b[39m(converted, UnknownException):\n\u001b[0;32m    194\u001b[0m     \u001b[39m# Hide where the exception came from that shows a non-Pythonic\u001b[39;00m\n\u001b[0;32m    195\u001b[0m     \u001b[39m# JVM exception message.\u001b[39;00m\n\u001b[1;32m--> 196\u001b[0m     \u001b[39mraise\u001b[39;00m converted \u001b[39mfrom\u001b[39;00m \u001b[39mNone\u001b[39m\n\u001b[0;32m    197\u001b[0m \u001b[39melse\u001b[39;00m:\n\u001b[0;32m    198\u001b[0m     \u001b[39mraise\u001b[39;00m\n",
      "\u001b[1;31mAnalysisException\u001b[0m: Column \"FULL_STREET_ADDRESS\" not found in schema Some(StructType(StructField(APT_NO,StringType,true),StructField(CREDIT_CARD_NO,StringType,true),StructField(CUST_CITY,StringType,true),StructField(CUST_COUNTRY,StringType,true),StructField(CUST_EMAIL,StringType,true),StructField(CUST_PHONE,LongType,true),StructField(CUST_STATE,StringType,true),StructField(CUST_ZIP,StringType,true),StructField(FIRST_NAME,StringType,true),StructField(LAST_NAME,StringType,true),StructField(LAST_UPDATED,StringType,true),StructField(MIDDLE_NAME,StringType,true),StructField(SSN,LongType,true),StructField(STREET_NAME,StringType,true)))"
     ]
    }
   ],
   "source": [
    "# Create the table CDW_SAPP_CUSTOMER \n",
    "df_customer.write.format(\"jdbc\") \\\n",
    ".mode(\"append\") \\\n",
    ".option(\"url\", \"jdbc:mysql://localhost:3306/creditcard_capstone\") \\\n",
    ".option(\"dbtable\", \"creditcard_capstone.CDW_SAPP_CUSTOMER\") \\\n",
    ".option(\"user\", \"root\") \\\n",
    ".option(\"password\", \"a\") \\\n",
    ".save()"
   ]
  },
  {
   "cell_type": "markdown",
   "metadata": {},
   "source": [
    "# 2. Functional Requirements - Application Front-End\n",
    "Once data is loaded into the database, we need a front-end (console) to see/display data. For that, create a console-based Python program to satisfy System Requirements 2 (2.1 and 2.2)."
   ]
  },
  {
   "cell_type": "markdown",
   "metadata": {},
   "source": [
    "<b> Req-2.1 Transaction Details Module </b><br>\n",
    "1) Used to display the transactions made by customers living in a given zip code for a given month and year. Order by day in\n",
    "descending order. <br>\n",
    "2) Used to display the number and total values of transactions for a given type.<br>\n",
    "3) Used to display the number and total values of transactions for branches in a given state.<br>"
   ]
  },
  {
   "cell_type": "markdown",
   "metadata": {},
   "source": [
    "# 2.1.1 Order by day in descending order."
   ]
  },
  {
   "cell_type": "code",
   "execution_count": 3,
   "metadata": {},
   "outputs": [
    {
     "name": "stdout",
     "output_type": "stream",
     "text": [
      "+--------+---+-----+----+----------------+-----------------+\n",
      "|CUST_ZIP|DAY|MONTH|YEAR|TRANSACTION_TYPE|TRANSACTION_VALUE|\n",
      "+--------+---+-----+----+----------------+-----------------+\n",
      "|   39120| 28|    8|2018|           Bills|            23.57|\n",
      "|   39120| 28|    8|2018|            Test|             24.6|\n",
      "|   39120| 28|    8|2018|           Bills|            23.57|\n",
      "|   39120| 28|    8|2018|   Entertainment|            46.53|\n",
      "|   39120| 28|    8|2018|           Bills|            23.57|\n",
      "|   39120| 28|    8|2018|   Entertainment|            46.53|\n",
      "|   39120| 28|    8|2018|           Bills|            23.57|\n",
      "|   39120| 28|    8|2018|   Entertainment|            46.53|\n",
      "|   39120| 28|    8|2018|           Bills|            23.57|\n",
      "|   39120| 28|    8|2018|   Entertainment|            46.53|\n",
      "|   39120| 28|    8|2018|           Bills|            23.57|\n",
      "|   39120| 28|    8|2018|             Gas|            11.02|\n",
      "|   39120| 28|    8|2018|            Test|             24.6|\n",
      "|   39120| 28|    8|2018|             Gas|            11.02|\n",
      "|   39120| 28|    8|2018|   Entertainment|            46.53|\n",
      "|   39120| 28|    8|2018|             Gas|            11.02|\n",
      "|   39120| 28|    8|2018|   Entertainment|            46.53|\n",
      "|   39120| 28|    8|2018|             Gas|            11.02|\n",
      "|   39120| 28|    8|2018|           Bills|            23.57|\n",
      "|   39120| 28|    8|2018|             Gas|            11.02|\n",
      "+--------+---+-----+----+----------------+-----------------+\n",
      "only showing top 20 rows\n",
      "\n"
     ]
    }
   ],
   "source": [
    "# Input fo rmonth, year and zipcode\n",
    "Month = 8 # Holds the input value for month     | 8\n",
    "Year = 2018  # Holds the input value for year   | 2018\n",
    "Zipcode = 39120 # Holds the input value for zipcode | 39120\n",
    "\n",
    "# Use cdw_app_credit_card table to get TRANSACTION_VALUE, DAY, MONTH AND YEAR\n",
    "# Use cdw_app_customer to get CUST_ZIP \n",
    "\n",
    "# Register the DataFrame as a SQL temporary view\n",
    "df_credit.createOrReplaceTempView(\"credit\")\n",
    "df_customer.createOrReplaceTempView(\"customer\")\n",
    "sel = \"SELECT customer.CUST_ZIP, credit.DAY, credit.MONTH, credit.YEAR, credit.TRANSACTION_TYPE, credit.TRANSACTION_VALUE\"\n",
    "frm = \" FROM credit, customer\"\n",
    "where = \" WHERE credit.YEAR = \" + str(Year) + \" AND credit.MONTH = \" + str(Month) + \" AND customer.CUST_ZIP = \" + str(Zipcode)\n",
    "ordr = \" ORDER BY credit.DAY DESC\" # Order by ascending \n",
    "\n",
    "sqlCredit = spark.sql(sel + frm + where + ordr)\n",
    "sqlCredit.show(20)\n"
   ]
  },
  {
   "cell_type": "markdown",
   "metadata": {},
   "source": [
    "# 2.1.2 Display the number and total values of transactions for a given type"
   ]
  },
  {
   "cell_type": "code",
   "execution_count": 11,
   "metadata": {},
   "outputs": [
    {
     "name": "stdout",
     "output_type": "stream",
     "text": [
      "+--------------+----------------+-----------------+\n",
      "|TRANSACTION_ID|TRANSACTION_TYPE|TRANSACTION_VALUE|\n",
      "+--------------+----------------+-----------------+\n",
      "|            10|           Bills|           100.38|\n",
      "|            14|           Bills|            17.81|\n",
      "|            15|           Bills|             29.0|\n",
      "|            20|           Bills|            34.34|\n",
      "|            23|           Bills|             7.97|\n",
      "|            42|           Bills|            30.95|\n",
      "|            46|           Bills|             4.95|\n",
      "|            57|           Bills|             1.32|\n",
      "|            58|           Bills|            13.72|\n",
      "|            71|           Bills|            87.58|\n",
      "|            74|           Bills|            45.93|\n",
      "|            77|           Bills|            53.03|\n",
      "|            83|           Bills|             55.4|\n",
      "|            84|           Bills|            70.25|\n",
      "|            86|           Bills|             7.62|\n",
      "|            94|           Bills|            72.72|\n",
      "|           118|           Bills|            21.96|\n",
      "|           132|           Bills|            37.92|\n",
      "|           133|           Bills|            77.05|\n",
      "|           134|           Bills|            26.17|\n",
      "+--------------+----------------+-----------------+\n",
      "only showing top 20 rows\n",
      "\n"
     ]
    }
   ],
   "source": [
    "# Input for a given transaction type \n",
    "transact_type = \"Bills\"\n",
    "\n",
    "sel = \"SELECT TRANSACTION_ID, TRANSACTION_TYPE, TRANSACTION_VALUE\"\n",
    "frm = \" FROM credit\"\n",
    "where = \" WHERE TRANSACTION_TYPE = \" + \"\\\"\"+ transact_type + \"\\\"\"\n",
    "sqlCredit = spark.sql(sel + frm + where)\n",
    "sqlCredit.show(20)"
   ]
  },
  {
   "cell_type": "markdown",
   "metadata": {},
   "source": [
    "# 2.1.3 Display the number and total values of transactions for branches in a given state"
   ]
  },
  {
   "cell_type": "code",
   "execution_count": 12,
   "metadata": {},
   "outputs": [
    {
     "name": "stdout",
     "output_type": "stream",
     "text": [
      "+------------+--------------+-----------------+\n",
      "|BRANCH_STATE|TRANSACTION_ID|TRANSACTION_VALUE|\n",
      "+------------+--------------+-----------------+\n",
      "|          TX|             1|             78.9|\n",
      "|          TX|             1|             78.9|\n",
      "|          TX|             1|             78.9|\n",
      "|          TX|             1|             78.9|\n",
      "|          TX|             1|             78.9|\n",
      "|          TX|             2|            14.24|\n",
      "|          TX|             2|            14.24|\n",
      "|          TX|             2|            14.24|\n",
      "|          TX|             2|            14.24|\n",
      "|          TX|             2|            14.24|\n",
      "|          TX|             3|             56.7|\n",
      "|          TX|             3|             56.7|\n",
      "|          TX|             3|             56.7|\n",
      "|          TX|             3|             56.7|\n",
      "|          TX|             3|             56.7|\n",
      "|          TX|             4|            59.73|\n",
      "|          TX|             4|            59.73|\n",
      "|          TX|             4|            59.73|\n",
      "|          TX|             4|            59.73|\n",
      "|          TX|             4|            59.73|\n",
      "+------------+--------------+-----------------+\n",
      "only showing top 20 rows\n",
      "\n"
     ]
    }
   ],
   "source": [
    "# Register the DataFrame as a SQL temporary view\n",
    "df_branch.createOrReplaceTempView(\"branch\")\n",
    "\n",
    "# Input for a given state\n",
    "state = \"TX\"\n",
    "\n",
    "sel = \"SELECT branch.BRANCH_STATE, credit.TRANSACTION_ID, credit.TRANSACTION_VALUE\"\n",
    "frm = \" FROM branch, credit\"\n",
    "where = \" WHERE branch.BRANCH_STATE = \" + \"\\\"\"+ state + \"\\\"\"\n",
    "sqlCredit = spark.sql(sel + frm + where)\n",
    "sqlCredit.show(20)"
   ]
  },
  {
   "cell_type": "markdown",
   "metadata": {},
   "source": [
    "<b>Req-2.2 Customer Details </b><br>\n",
    "1) Used to check the existing account details of a customer.<br>\n",
    "2) Used to modify the existing account details of a customer.<br>\n",
    "3) Used to generate a monthly bill for a credit card number for a given month and year. <br>\n",
    "4) Used to display the transactions made by a customer between two dates. Order by year, month, and day in descending order. <br>"
   ]
  },
  {
   "cell_type": "markdown",
   "metadata": {},
   "source": [
    "# 2.2.1 Check the existing account details of a customer\n"
   ]
  },
  {
   "cell_type": "code",
   "execution_count": 13,
   "metadata": {},
   "outputs": [
    {
     "name": "stdout",
     "output_type": "stream",
     "text": [
      "+------+----------------+---------+-------------+-------------------+----------+----------+--------+\n",
      "|APT_NO|  CREDIT_CARD_NO|CUST_CITY| CUST_COUNTRY|         CUST_EMAIL|CUST_PHONE|CUST_STATE|CUST_ZIP|\n",
      "+------+----------------+---------+-------------+-------------------+----------+----------+--------+\n",
      "|   656|4210653310061055|  Natchez|United States|AHooper@example.com|   1237818|        MS|   39120|\n",
      "+------+----------------+---------+-------------+-------------------+----------+----------+--------+\n",
      "\n"
     ]
    }
   ],
   "source": [
    "# Input customer name\n",
    "first_name = \"Alec\"\n",
    "last_name = \"Hooper\"\n",
    "\n",
    "sel = \"SELECT APT_NO, CREDIT_CARD_NO, CUST_CITY, CUST_COUNTRY, CUST_EMAIL, CUST_PHONE, CUST_STATE, CUST_ZIP\"\n",
    "frm = \" FROM customer\"\n",
    "where = \" WHERE FIRST_NAME = \" + \"\\\"\"+ first_name + \"\\\"\" + \"AND LAST_NAME = \" + \"\\\"\" + last_name + \"\\\"\"\n",
    "sqlCredit = spark.sql(sel + frm + where)\n",
    "sqlCredit.show(20)\n"
   ]
  },
  {
   "cell_type": "markdown",
   "metadata": {},
   "source": [
    "# 2.2.2 Modify the exsiting account details of a customer\n"
   ]
  },
  {
   "cell_type": "code",
   "execution_count": null,
   "metadata": {},
   "outputs": [],
   "source": [
    "# ALTER DATABASE inventory SET DBPROPERTIES ('Edited-by' = 'John', 'Edit-date' = '01/01/2001');"
   ]
  },
  {
   "cell_type": "markdown",
   "metadata": {},
   "source": [
    "# 2.2.3 Generate a monthly bill for a credit card number for a given month and year\n"
   ]
  },
  {
   "cell_type": "code",
   "execution_count": 20,
   "metadata": {},
   "outputs": [
    {
     "ename": "AnalysisException",
     "evalue": "grouping expressions sequence is empty, and 'credit.CREDIT_CARD_NO' is not an aggregate function. Wrap '(sum(credit.TRANSACTION_VALUE) AS `sum(TRANSACTION_VALUE)`)' in windowing function(s) or wrap 'credit.CREDIT_CARD_NO' in first() (or first_value) if you don't care which value you get.;\nAggregate [CREDIT_CARD_NO#33, YEAR#40L, MONTH#36L, sum(TRANSACTION_VALUE#39) AS sum(TRANSACTION_VALUE)#293]\n+- Filter (((cast(CREDIT_CARD_NO#33 as bigint) = 4210653310061055) AND (MONTH#36L = cast(8 as bigint))) AND (YEAR#40L = cast(2018 as bigint)))\n   +- SubqueryAlias credit\n      +- View (`credit`, [BRANCH_CODE#32L,CREDIT_CARD_NO#33,CUST_SSN#34L,DAY#35L,MONTH#36L,TRANSACTION_ID#37L,TRANSACTION_TYPE#38,TRANSACTION_VALUE#39,YEAR#40L])\n         +- Relation [BRANCH_CODE#32L,CREDIT_CARD_NO#33,CUST_SSN#34L,DAY#35L,MONTH#36L,TRANSACTION_ID#37L,TRANSACTION_TYPE#38,TRANSACTION_VALUE#39,YEAR#40L] json\n",
     "output_type": "error",
     "traceback": [
      "\u001b[1;31m---------------------------------------------------------------------------\u001b[0m",
      "\u001b[1;31mAnalysisException\u001b[0m                         Traceback (most recent call last)",
      "\u001b[1;32mc:\\Users\\Neez\\Documents\\GitHub\\Cap_Sone_Project\\Credit_Card_System.ipynb Cell 29\u001b[0m in \u001b[0;36m<cell line: 11>\u001b[1;34m()\u001b[0m\n\u001b[0;32m      <a href='vscode-notebook-cell:/c%3A/Users/Neez/Documents/GitHub/Cap_Sone_Project/Credit_Card_System.ipynb#X54sZmlsZQ%3D%3D?line=7'>8</a>\u001b[0m where \u001b[39m=\u001b[39m \u001b[39m\"\u001b[39m\u001b[39m WHERE CREDIT_CARD_NO = \u001b[39m\u001b[39m\"\u001b[39m \u001b[39m+\u001b[39m \u001b[39mstr\u001b[39m(card_number) \u001b[39m+\u001b[39m \u001b[39m\"\u001b[39m\u001b[39m AND MONTH = \u001b[39m\u001b[39m\"\u001b[39m \u001b[39m+\u001b[39m \u001b[39mstr\u001b[39m(month_bill) \u001b[39m+\u001b[39m \u001b[39m\"\u001b[39m\u001b[39m AND YEAR = \u001b[39m\u001b[39m\"\u001b[39m \u001b[39m+\u001b[39m \u001b[39mstr\u001b[39m(year_bill) \n\u001b[0;32m      <a href='vscode-notebook-cell:/c%3A/Users/Neez/Documents/GitHub/Cap_Sone_Project/Credit_Card_System.ipynb#X54sZmlsZQ%3D%3D?line=8'>9</a>\u001b[0m gr_by \u001b[39m=\u001b[39m \u001b[39m\"\u001b[39m\u001b[39mGROUP BY CREDIT_CARD_NO\u001b[39m\u001b[39m\"\u001b[39m\n\u001b[1;32m---> <a href='vscode-notebook-cell:/c%3A/Users/Neez/Documents/GitHub/Cap_Sone_Project/Credit_Card_System.ipynb#X54sZmlsZQ%3D%3D?line=10'>11</a>\u001b[0m sql_bill \u001b[39m=\u001b[39m spark\u001b[39m.\u001b[39;49msql(sel \u001b[39m+\u001b[39;49m frm \u001b[39m+\u001b[39;49m where)\n\u001b[0;32m     <a href='vscode-notebook-cell:/c%3A/Users/Neez/Documents/GitHub/Cap_Sone_Project/Credit_Card_System.ipynb#X54sZmlsZQ%3D%3D?line=11'>12</a>\u001b[0m sql_bill\u001b[39m.\u001b[39mshow(\u001b[39m20\u001b[39m)\n",
      "File \u001b[1;32m~\\AppData\\Local\\Packages\\PythonSoftwareFoundation.Python.3.10_qbz5n2kfra8p0\\LocalCache\\local-packages\\Python310\\site-packages\\pyspark\\sql\\session.py:1034\u001b[0m, in \u001b[0;36mSparkSession.sql\u001b[1;34m(self, sqlQuery, **kwargs)\u001b[0m\n\u001b[0;32m   1032\u001b[0m     sqlQuery \u001b[39m=\u001b[39m formatter\u001b[39m.\u001b[39mformat(sqlQuery, \u001b[39m*\u001b[39m\u001b[39m*\u001b[39mkwargs)\n\u001b[0;32m   1033\u001b[0m \u001b[39mtry\u001b[39;00m:\n\u001b[1;32m-> 1034\u001b[0m     \u001b[39mreturn\u001b[39;00m DataFrame(\u001b[39mself\u001b[39;49m\u001b[39m.\u001b[39;49m_jsparkSession\u001b[39m.\u001b[39;49msql(sqlQuery), \u001b[39mself\u001b[39m)\n\u001b[0;32m   1035\u001b[0m \u001b[39mfinally\u001b[39;00m:\n\u001b[0;32m   1036\u001b[0m     \u001b[39mif\u001b[39;00m \u001b[39mlen\u001b[39m(kwargs) \u001b[39m>\u001b[39m \u001b[39m0\u001b[39m:\n",
      "File \u001b[1;32m~\\AppData\\Local\\Packages\\PythonSoftwareFoundation.Python.3.10_qbz5n2kfra8p0\\LocalCache\\local-packages\\Python310\\site-packages\\py4j\\java_gateway.py:1321\u001b[0m, in \u001b[0;36mJavaMember.__call__\u001b[1;34m(self, *args)\u001b[0m\n\u001b[0;32m   1315\u001b[0m command \u001b[39m=\u001b[39m proto\u001b[39m.\u001b[39mCALL_COMMAND_NAME \u001b[39m+\u001b[39m\\\n\u001b[0;32m   1316\u001b[0m     \u001b[39mself\u001b[39m\u001b[39m.\u001b[39mcommand_header \u001b[39m+\u001b[39m\\\n\u001b[0;32m   1317\u001b[0m     args_command \u001b[39m+\u001b[39m\\\n\u001b[0;32m   1318\u001b[0m     proto\u001b[39m.\u001b[39mEND_COMMAND_PART\n\u001b[0;32m   1320\u001b[0m answer \u001b[39m=\u001b[39m \u001b[39mself\u001b[39m\u001b[39m.\u001b[39mgateway_client\u001b[39m.\u001b[39msend_command(command)\n\u001b[1;32m-> 1321\u001b[0m return_value \u001b[39m=\u001b[39m get_return_value(\n\u001b[0;32m   1322\u001b[0m     answer, \u001b[39mself\u001b[39;49m\u001b[39m.\u001b[39;49mgateway_client, \u001b[39mself\u001b[39;49m\u001b[39m.\u001b[39;49mtarget_id, \u001b[39mself\u001b[39;49m\u001b[39m.\u001b[39;49mname)\n\u001b[0;32m   1324\u001b[0m \u001b[39mfor\u001b[39;00m temp_arg \u001b[39min\u001b[39;00m temp_args:\n\u001b[0;32m   1325\u001b[0m     temp_arg\u001b[39m.\u001b[39m_detach()\n",
      "File \u001b[1;32m~\\AppData\\Local\\Packages\\PythonSoftwareFoundation.Python.3.10_qbz5n2kfra8p0\\LocalCache\\local-packages\\Python310\\site-packages\\pyspark\\sql\\utils.py:196\u001b[0m, in \u001b[0;36mcapture_sql_exception.<locals>.deco\u001b[1;34m(*a, **kw)\u001b[0m\n\u001b[0;32m    192\u001b[0m converted \u001b[39m=\u001b[39m convert_exception(e\u001b[39m.\u001b[39mjava_exception)\n\u001b[0;32m    193\u001b[0m \u001b[39mif\u001b[39;00m \u001b[39mnot\u001b[39;00m \u001b[39misinstance\u001b[39m(converted, UnknownException):\n\u001b[0;32m    194\u001b[0m     \u001b[39m# Hide where the exception came from that shows a non-Pythonic\u001b[39;00m\n\u001b[0;32m    195\u001b[0m     \u001b[39m# JVM exception message.\u001b[39;00m\n\u001b[1;32m--> 196\u001b[0m     \u001b[39mraise\u001b[39;00m converted \u001b[39mfrom\u001b[39;00m \u001b[39mNone\u001b[39m\n\u001b[0;32m    197\u001b[0m \u001b[39melse\u001b[39;00m:\n\u001b[0;32m    198\u001b[0m     \u001b[39mraise\u001b[39;00m\n",
      "\u001b[1;31mAnalysisException\u001b[0m: grouping expressions sequence is empty, and 'credit.CREDIT_CARD_NO' is not an aggregate function. Wrap '(sum(credit.TRANSACTION_VALUE) AS `sum(TRANSACTION_VALUE)`)' in windowing function(s) or wrap 'credit.CREDIT_CARD_NO' in first() (or first_value) if you don't care which value you get.;\nAggregate [CREDIT_CARD_NO#33, YEAR#40L, MONTH#36L, sum(TRANSACTION_VALUE#39) AS sum(TRANSACTION_VALUE)#293]\n+- Filter (((cast(CREDIT_CARD_NO#33 as bigint) = 4210653310061055) AND (MONTH#36L = cast(8 as bigint))) AND (YEAR#40L = cast(2018 as bigint)))\n   +- SubqueryAlias credit\n      +- View (`credit`, [BRANCH_CODE#32L,CREDIT_CARD_NO#33,CUST_SSN#34L,DAY#35L,MONTH#36L,TRANSACTION_ID#37L,TRANSACTION_TYPE#38,TRANSACTION_VALUE#39,YEAR#40L])\n         +- Relation [BRANCH_CODE#32L,CREDIT_CARD_NO#33,CUST_SSN#34L,DAY#35L,MONTH#36L,TRANSACTION_ID#37L,TRANSACTION_TYPE#38,TRANSACTION_VALUE#39,YEAR#40L] json\n"
     ]
    }
   ],
   "source": [
    "# Input for month and year bill\n",
    "month_bill = 8\n",
    "year_bill = 2018\n",
    "card_number = 4210653310061055\n",
    "\n",
    "sel = \"SELECT CREDIT_CARD_NO, YEAR, MONTH, SUM(TRANSACTION_VALUE)\"\n",
    "frm = \" FROM credit\"\n",
    "where = \" WHERE CREDIT_CARD_NO = \" + str(card_number) + \" AND MONTH = \" + str(month_bill) + \" AND YEAR = \" + str(year_bill) \n",
    "gr_by = \"GROUP BY CREDIT_CARD_NO\"\n",
    "\n",
    "sql_bill = spark.sql(sel + frm + where)\n",
    "sql_bill.show(20)\n",
    "\n"
   ]
  },
  {
   "cell_type": "markdown",
   "metadata": {},
   "source": [
    "# 2.2.4 Display the transactions made by a customer between two date. Order by year, month, and day in desc. "
   ]
  },
  {
   "cell_type": "markdown",
   "metadata": {},
   "source": [
    "# 3 - Functional Requirements - Data analysis and Visualization"
   ]
  },
  {
   "cell_type": "markdown",
   "metadata": {},
   "source": [
    "After data is loaded into the database, users can make changes from the front end, and they can also view data from the front end. Now, the business analyst team wants to analyze and visualize the data according to the below requirements."
   ]
  },
  {
   "cell_type": "markdown",
   "metadata": {},
   "source": [
    "<b>Req - 3 Data Analysis and Visualization </b> <br>\n",
    "1) Find and plot which transaction type has a high rate of transactions. <br>\n",
    "2) Find and plot which state has a high number of customers. <br>\n",
    "3) Find and plot the sum of all transactions for each customer, and which customer has the highest transaction amount.hint(use CUST_SSN).\n",
    "\n"
   ]
  },
  {
   "cell_type": "markdown",
   "metadata": {},
   "source": [
    "# 4. Functional Requirements - LOAN Application Dataset"
   ]
  },
  {
   "cell_type": "markdown",
   "metadata": {},
   "source": [
    "1. Create a Python program to GET (consume) data from the above API endpoint for the loan application dataset. <br>\n",
    "2. Find the status code of the above API endpoint. <br>\n",
    "3. Once Python reads data from the API, utilize PySpark to load data into RDBMS(SQL). The table name should be CDW-SAPP_loan_application in the database."
   ]
  },
  {
   "cell_type": "markdown",
   "metadata": {},
   "source": [
    "# 5 - Functional Requirements - Data Analysis and Visualization for Loan Application"
   ]
  },
  {
   "cell_type": "markdown",
   "metadata": {},
   "source": [
    "1. Find and plot the percentage of applications approved for self-employed applicants. <br>\n",
    "2. Find the percentage of rejection for married male applicants. <br>\n",
    "3. Find and plot the top three months with the largest transaction data.<br>\n",
    "4. Find and plot which branch processed the highest total dollar value of healthcare transactions."
   ]
  },
  {
   "cell_type": "markdown",
   "metadata": {},
   "source": []
  }
 ],
 "metadata": {
  "kernelspec": {
   "display_name": "Python 3.10.6 64-bit (windows store)",
   "language": "python",
   "name": "python3"
  },
  "language_info": {
   "codemirror_mode": {
    "name": "ipython",
    "version": 3
   },
   "file_extension": ".py",
   "mimetype": "text/x-python",
   "name": "python",
   "nbconvert_exporter": "python",
   "pygments_lexer": "ipython3",
   "version": "3.10.6"
  },
  "orig_nbformat": 4,
  "vscode": {
   "interpreter": {
    "hash": "ff3283616391cc51fd2bd3794eb3a12d244a22e4436b909d19860b81f3182aba"
   }
  }
 },
 "nbformat": 4,
 "nbformat_minor": 2
}
