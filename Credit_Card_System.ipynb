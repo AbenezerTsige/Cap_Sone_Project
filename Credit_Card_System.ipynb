{
 "cells": [
  {
   "cell_type": "markdown",
   "metadata": {},
   "source": [
    "This program uses Pyspark SQL to extract customer, branch and card data from the provided json file."
   ]
  },
  {
   "cell_type": "code",
   "execution_count": 30,
   "metadata": {},
   "outputs": [],
   "source": [
    "# Import libraries \n",
    "import pyspark\n",
    "from pyspark.sql import SparkSession\n",
    "import pandas as pd\n",
    "from pyspark.sql.types import *"
   ]
  },
  {
   "cell_type": "markdown",
   "metadata": {},
   "source": [
    "# 1. Functional Requirements - Load Credit Card Database (SQL)"
   ]
  },
  {
   "cell_type": "markdown",
   "metadata": {},
   "source": [
    "<b>Data Extraction and Transformation with Python and PySpark. </b><br>\n",
    "For “Credit Card System,” create a Python and PySpark SQL program to read/extract the following JSON files according to the specifications found in the mapping document.\n",
    "1. CDW_SAPP_BRANCH.JSON <br>\n",
    "2. CDW_SAPP_CREDITCARD.JSON <br>\n",
    "3. CDW_SAPP_CUSTOMER.JSON <br>\n",
    "Note: Data Engineers will be required to transform the data based on the requirements found in the Mapping Document.\n",
    "Hint: [You can use PYSQL “select statement query” or simple Pyspark RDD]."
   ]
  },
  {
   "cell_type": "code",
   "execution_count": 31,
   "metadata": {},
   "outputs": [],
   "source": [
    "# Application to create Dataframes from source\n",
    "spark = SparkSession.builder.master('local[1]').appName('CreditCardSystems').getOrCreate() \n",
    "\n",
    "# Extract the JSON files branch, credit and customer into a dataframe\n",
    "df_branch = spark.read.json('cdw_sapp_branch.json')  \n",
    "df_credit = spark.read.json('cdw_sapp_credit.json') \n",
    "df_customer = spark.read.json('cdw_sapp_customer.json')\n"
   ]
  },
  {
   "cell_type": "code",
   "execution_count": 32,
   "metadata": {},
   "outputs": [
    {
     "data": {
      "text/plain": [
       "[('BRANCH_CITY', 'string'),\n",
       " ('BRANCH_CODE', 'bigint'),\n",
       " ('BRANCH_NAME', 'string'),\n",
       " ('BRANCH_PHONE', 'string'),\n",
       " ('BRANCH_STATE', 'string'),\n",
       " ('BRANCH_STREET', 'string'),\n",
       " ('BRANCH_ZIP', 'bigint'),\n",
       " ('LAST_UPDATED', 'string')]"
      ]
     },
     "execution_count": 32,
     "metadata": {},
     "output_type": "execute_result"
    }
   ],
   "source": [
    "df_branch.dtypes"
   ]
  },
  {
   "cell_type": "code",
   "execution_count": 33,
   "metadata": {},
   "outputs": [
    {
     "ename": "NameError",
     "evalue": "name 'VarcharType' is not defined",
     "output_type": "error",
     "traceback": [
      "\u001b[1;31m---------------------------------------------------------------------------\u001b[0m",
      "\u001b[1;31mNameError\u001b[0m                                 Traceback (most recent call last)",
      "\u001b[1;32mc:\\Users\\Neez\\Documents\\GitHub\\Cap_Sone_Project\\Credit_Card_System.ipynb Cell 7\u001b[0m in \u001b[0;36m<cell line: 8>\u001b[1;34m()\u001b[0m\n\u001b[0;32m      <a href='vscode-notebook-cell:/c%3A/Users/Neez/Documents/GitHub/Cap_Sone_Project/Credit_Card_System.ipynb#X35sZmlsZQ%3D%3D?line=4'>5</a>\u001b[0m df_branch \u001b[39m=\u001b[39m df_branch\u001b[39m.\u001b[39mwithColumn(\u001b[39m\"\u001b[39m\u001b[39mBRANCH_ZIP\u001b[39m\u001b[39m\"\u001b[39m, df_branch[\u001b[39m\"\u001b[39m\u001b[39mBRANCH_ZIP\u001b[39m\u001b[39m\"\u001b[39m]\u001b[39m.\u001b[39mcast(IntegerType()))\n\u001b[0;32m      <a href='vscode-notebook-cell:/c%3A/Users/Neez/Documents/GitHub/Cap_Sone_Project/Credit_Card_System.ipynb#X35sZmlsZQ%3D%3D?line=6'>7</a>\u001b[0m \u001b[39m# Change datatype to varchar\u001b[39;00m\n\u001b[1;32m----> <a href='vscode-notebook-cell:/c%3A/Users/Neez/Documents/GitHub/Cap_Sone_Project/Credit_Card_System.ipynb#X35sZmlsZQ%3D%3D?line=7'>8</a>\u001b[0m df_branch \u001b[39m=\u001b[39m df_branch\u001b[39m.\u001b[39mwithColumn(\u001b[39m\"\u001b[39m\u001b[39mBRANCH_CITY\u001b[39m\u001b[39m\"\u001b[39m, df_branch[\u001b[39m\"\u001b[39m\u001b[39mBRANCH_CITY\u001b[39m\u001b[39m\"\u001b[39m]\u001b[39m.\u001b[39mcast(VarcharType()))\n",
      "\u001b[1;31mNameError\u001b[0m: name 'VarcharType' is not defined"
     ]
    }
   ],
   "source": [
    "# Adjust branch according the mapping document\n",
    "\n",
    "# Change datatype to integer\n",
    "df_branch = df_branch.withColumn(\"BRANCH_CODE\", df_branch[\"BRANCH_CODE\"].cast(IntegerType()))\n",
    "df_branch = df_branch.withColumn(\"BRANCH_ZIP\", df_branch[\"BRANCH_ZIP\"].cast(IntegerType()))\n",
    "\n",
    "# Change datatype to varchar - COnvert it on the sql side\n",
    "df_branch = df_branch.withColumn(\"BRANCH_CITY\", df_branch[\"BRANCH_CITY\"].cast(VarcharType()))\n"
   ]
  },
  {
   "cell_type": "code",
   "execution_count": 34,
   "metadata": {},
   "outputs": [
    {
     "data": {
      "text/plain": [
       "[('BRANCH_CITY', 'string'),\n",
       " ('BRANCH_CODE', 'int'),\n",
       " ('BRANCH_NAME', 'string'),\n",
       " ('BRANCH_PHONE', 'string'),\n",
       " ('BRANCH_STATE', 'string'),\n",
       " ('BRANCH_STREET', 'string'),\n",
       " ('BRANCH_ZIP', 'int'),\n",
       " ('LAST_UPDATED', 'string')]"
      ]
     },
     "execution_count": 34,
     "metadata": {},
     "output_type": "execute_result"
    }
   ],
   "source": [
    "df_branch.dtypes"
   ]
  },
  {
   "cell_type": "code",
   "execution_count": 24,
   "metadata": {},
   "outputs": [
    {
     "name": "stdout",
     "output_type": "stream",
     "text": [
      "+-----------+----------------+---------+---+-----+--------------+----------------+-----------------+----+\n",
      "|BRANCH_CODE|  CREDIT_CARD_NO| CUST_SSN|DAY|MONTH|TRANSACTION_ID|TRANSACTION_TYPE|TRANSACTION_VALUE|YEAR|\n",
      "+-----------+----------------+---------+---+-----+--------------+----------------+-----------------+----+\n",
      "|        114|4210653349028689|123459988| 14|    2|             1|       Education|             78.9|2018|\n",
      "|         35|4210653349028689|123459988| 20|    3|             2|   Entertainment|            14.24|2018|\n",
      "|        160|4210653349028689|123459988|  8|    7|             3|         Grocery|             56.7|2018|\n",
      "|        114|4210653349028689|123459988| 19|    4|             4|   Entertainment|            59.73|2018|\n",
      "+-----------+----------------+---------+---+-----+--------------+----------------+-----------------+----+\n",
      "only showing top 4 rows\n",
      "\n"
     ]
    }
   ],
   "source": [
    "df_credit.show(4)"
   ]
  },
  {
   "cell_type": "code",
   "execution_count": 16,
   "metadata": {},
   "outputs": [
    {
     "name": "stdout",
     "output_type": "stream",
     "text": [
      "+------+----------------+------------+-------------+-------------------+----------+----------+--------+----------+---------+--------------------+-----------+---------+-----------------+\n",
      "|APT_NO|  CREDIT_CARD_NO|   CUST_CITY| CUST_COUNTRY|         CUST_EMAIL|CUST_PHONE|CUST_STATE|CUST_ZIP|FIRST_NAME|LAST_NAME|        LAST_UPDATED|MIDDLE_NAME|      SSN|      STREET_NAME|\n",
      "+------+----------------+------------+-------------+-------------------+----------+----------+--------+----------+---------+--------------------+-----------+---------+-----------------+\n",
      "|   656|4210653310061055|     Natchez|United States|AHooper@example.com|   1237818|        MS|   39120|      Alec|   Hooper|2018-04-21T12:49:...|         Wm|123456100|Main Street North|\n",
      "|   829|4210653310102868|Wethersfield|United States|EHolman@example.com|   1238933|        CT|   06109|      Etta|   Holman|2018-04-21T12:49:...|    Brendan|123453023|    Redwood Drive|\n",
      "|   683|4210653310116272|     Huntley|United States|WDunham@example.com|   1243018|        IL|   60142|    Wilber|   Dunham|2018-04-21T12:49:...|   Ezequiel|123454487| 12th Street East|\n",
      "|   253|4210653310195948|   NewBerlin|United States| EHardy@example.com|   1243215|        WI|   53151|   Eugenio|    Hardy|2018-04-21T12:49:...|      Trina|123459758|Country Club Road|\n",
      "|   301|4210653310356919|      ElPaso|United States| WAyers@example.com|   1242074|        TX|   79930|   Wilfred|    Ayers|2018-04-21T12:49:...|        May|123454431|   Madison Street|\n",
      "+------+----------------+------------+-------------+-------------------+----------+----------+--------+----------+---------+--------------------+-----------+---------+-----------------+\n",
      "only showing top 5 rows\n",
      "\n"
     ]
    }
   ],
   "source": [
    "df_customer.show(5)"
   ]
  },
  {
   "cell_type": "markdown",
   "metadata": {},
   "source": [
    "<b>Data loading into Database </b><br>\n",
    "Once PySpark reads data from JSON files, and then utilizes Python, PySpark, and Python modules to load data into RDBMS(SQL), perform\n",
    "the following: <br>\n",
    "a) Create a Database in SQL(MariaDB), named “creditcard_capstone.” <br>\n",
    "b) Create a Python and Pyspark Program to load/write the “Credit Card System Data” into RDBMS(creditcard_capstone). <br>\n",
    "Tables should be created by the following names in RDBMS: <br>\n",
    "CDW_SAPP_BRANCH <br>\n",
    "CDW_SAPP_CREDIT_CARD <br>\n",
    "CDW_SAPP_CUSTOMER <br>"
   ]
  },
  {
   "cell_type": "code",
   "execution_count": 18,
   "metadata": {},
   "outputs": [],
   "source": [
    "# Create the table CDW_SAPP_BRANCH \n",
    "df_branch.write.format(\"jdbc\") \\\n",
    ".mode(\"append\") \\\n",
    ".option(\"url\", \"jdbc:mysql://localhost:3306/creditcard_capstone\") \\\n",
    ".option(\"dbtable\", \"creditcard_capstone.CDW_SAPP_BRANCH\") \\\n",
    ".option(\"user\", \"root\") \\\n",
    ".option(\"password\", \"a\") \\\n",
    ".save()"
   ]
  },
  {
   "cell_type": "code",
   "execution_count": 19,
   "metadata": {},
   "outputs": [],
   "source": [
    "# Create the table CDW_SAPP_CREDIT_CARD \n",
    "df_credit.write.format(\"jdbc\") \\\n",
    ".mode(\"append\") \\\n",
    ".option(\"url\", \"jdbc:mysql://localhost:3306/creditcard_capstone\") \\\n",
    ".option(\"dbtable\", \"creditcard_capstone.CDW_SAPP_CREDIT_CARD\") \\\n",
    ".option(\"user\", \"root\") \\\n",
    ".option(\"password\", \"a\") \\\n",
    ".save()"
   ]
  },
  {
   "cell_type": "code",
   "execution_count": 20,
   "metadata": {},
   "outputs": [],
   "source": [
    "# Create the table CDW_SAPP_CUSTOMER \n",
    "df_customer.write.format(\"jdbc\") \\\n",
    ".mode(\"append\") \\\n",
    ".option(\"url\", \"jdbc:mysql://localhost:3306/creditcard_capstone\") \\\n",
    ".option(\"dbtable\", \"creditcard_capstone.CDW_SAPP_CUSTOMER\") \\\n",
    ".option(\"user\", \"root\") \\\n",
    ".option(\"password\", \"a\") \\\n",
    ".save()"
   ]
  },
  {
   "cell_type": "markdown",
   "metadata": {},
   "source": [
    "# 2. Functional Requirements - Application Front-End\n",
    "Once data is loaded into the database, we need a front-end (console) to see/display data. For that, create a console-based Python program to satisfy System Requirements 2 (2.1 and 2.2)."
   ]
  },
  {
   "cell_type": "markdown",
   "metadata": {},
   "source": [
    "<b> Transaction Details Module </b><br>\n",
    "1) Used to display the transactions made by customers living in a given zip code for a given month and year. Order by day in\n",
    "descending order. <br>\n",
    "2) Used to display the number and total values of transactions for a given type.<br>\n",
    "3) Used to display the number and total values of transactions for branches in a given state.<br>"
   ]
  },
  {
   "cell_type": "markdown",
   "metadata": {},
   "source": [
    "# 2.1 Order by day in descending order."
   ]
  },
  {
   "cell_type": "code",
   "execution_count": null,
   "metadata": {},
   "outputs": [],
   "source": [
    "# INPUT \n",
    "Month = 0 # Holds the input value for month     | 8\n",
    "Year = 0  # Holds the input value for year      | 2018\n",
    "Zipcode = 0 # Holds the input value for zipcode | 39120\n",
    "\n",
    "# EXPECTED OUTPUT \n",
    "# CUST_ZIP | MONTH | YEAR | DAY | TRANSACTION_VALUE all three transactions \n",
    "# 39120    | 8     | 2018 | 14  |  29.15\n",
    "# 39120    | 8     | 2018 | 5   |  36.3\n",
    "\n",
    "# Use cdw_app_credit_card table to get TRANSACTION_VALUE, DAY, MONTH AND YEAR\n",
    "# Use cdw_app_customer to get CUST_ZIP \n",
    "\n",
    "\n",
    "\n",
    "\n",
    "\n"
   ]
  },
  {
   "cell_type": "markdown",
   "metadata": {},
   "source": [
    "<b>Customer Details </b><br>\n",
    "1) Used to check the existing account details of a customer.<br>\n",
    "2) Used to modify the existing account details of a customer.<br>\n",
    "3) Used to generate a monthly bill for a credit card number for a given month and year. <br>\n",
    "4) Used to display the transactions made by a customer between two dates. Order by year, month, and day in descending order. <br>"
   ]
  },
  {
   "cell_type": "markdown",
   "metadata": {},
   "source": [
    "# 3 - Functional Requirements - Data analysis and Visualization"
   ]
  },
  {
   "cell_type": "markdown",
   "metadata": {},
   "source": [
    "After data is loaded into the database, users can make changes from the front end, and they can also view data from the front end. Now, the business analyst team wants to analyze and visualize the data according to the below requirements."
   ]
  },
  {
   "cell_type": "markdown",
   "metadata": {},
   "source": [
    "<b> Data Analysis and Visualization </b> <br>\n",
    "1) Find and plot which transaction type has a high rate of transactions. <br>\n",
    "2) Find and plot which state has a high number of customers. <br>\n",
    "3) Find and plot the sum of all transactions for each customer, and which customer has the highest transaction amount.hint(use CUST_SSN).\n",
    "\n"
   ]
  },
  {
   "cell_type": "markdown",
   "metadata": {},
   "source": [
    "# 4. Functional Requirements - LOAN Application Dataset"
   ]
  },
  {
   "cell_type": "markdown",
   "metadata": {},
   "source": [
    "1. Create a Python program to GET (consume) data from the above API endpoint for the loan application dataset. <br>\n",
    "2. Find the status code of the above API endpoint. <br>\n",
    "3. Once Python reads data from the API, utilize PySpark to load data into RDBMS(SQL). The table name should be CDW-SAPP_loan_application in the database."
   ]
  },
  {
   "cell_type": "markdown",
   "metadata": {},
   "source": [
    "# 5 - Functional Requirements - Data Analysis and Visualization for Loan Application"
   ]
  },
  {
   "cell_type": "markdown",
   "metadata": {},
   "source": [
    "1. Find and plot the percentage of applications approved for self-employed applicants. <br>\n",
    "2. Find the percentage of rejection for married male applicants. <br>\n",
    "3. Find and plot the top three months with the largest transaction data.<br>\n",
    "4. Find and plot which branch processed the highest total dollar value of healthcare transactions."
   ]
  },
  {
   "cell_type": "markdown",
   "metadata": {},
   "source": []
  }
 ],
 "metadata": {
  "kernelspec": {
   "display_name": "Python 3.10.6 64-bit (windows store)",
   "language": "python",
   "name": "python3"
  },
  "language_info": {
   "codemirror_mode": {
    "name": "ipython",
    "version": 3
   },
   "file_extension": ".py",
   "mimetype": "text/x-python",
   "name": "python",
   "nbconvert_exporter": "python",
   "pygments_lexer": "ipython3",
   "version": "3.10.6"
  },
  "orig_nbformat": 4,
  "vscode": {
   "interpreter": {
    "hash": "ff3283616391cc51fd2bd3794eb3a12d244a22e4436b909d19860b81f3182aba"
   }
  }
 },
 "nbformat": 4,
 "nbformat_minor": 2
}
