{
 "cells": [
  {
   "cell_type": "markdown",
   "metadata": {},
   "source": [
    "This program uses Pyspark SQL to extract customer, branch and card data from the provided json file."
   ]
  },
  {
   "cell_type": "code",
   "execution_count": 5,
   "metadata": {},
   "outputs": [],
   "source": [
    "# Import libraries \n",
    "import pyspark\n",
    "from pyspark.sql import SparkSession\n",
    "\n",
    "spark = SparkSession.builder.appName('CreditCardSystems').getOrCreate() # Application to create Dataframes from source"
   ]
  },
  {
   "cell_type": "code",
   "execution_count": 19,
   "metadata": {},
   "outputs": [
    {
     "name": "stdout",
     "output_type": "stream",
     "text": [
      "root\n",
      " |-- APT_NO: string (nullable = true)\n",
      " |-- BRANCH_CITY: string (nullable = true)\n",
      " |-- BRANCH_CODE: long (nullable = true)\n",
      " |-- BRANCH_NAME: string (nullable = true)\n",
      " |-- BRANCH_PHONE: string (nullable = true)\n",
      " |-- BRANCH_STATE: string (nullable = true)\n",
      " |-- BRANCH_STREET: string (nullable = true)\n",
      " |-- BRANCH_ZIP: long (nullable = true)\n",
      " |-- CREDIT_CARD_NO: string (nullable = true)\n",
      " |-- CUST_CITY: string (nullable = true)\n",
      " |-- CUST_COUNTRY: string (nullable = true)\n",
      " |-- CUST_EMAIL: string (nullable = true)\n",
      " |-- CUST_PHONE: long (nullable = true)\n",
      " |-- CUST_SSN: long (nullable = true)\n",
      " |-- CUST_STATE: string (nullable = true)\n",
      " |-- CUST_ZIP: string (nullable = true)\n",
      " |-- DAY: long (nullable = true)\n",
      " |-- FIRST_NAME: string (nullable = true)\n",
      " |-- LAST_NAME: string (nullable = true)\n",
      " |-- LAST_UPDATED: string (nullable = true)\n",
      " |-- MIDDLE_NAME: string (nullable = true)\n",
      " |-- MONTH: long (nullable = true)\n",
      " |-- SSN: long (nullable = true)\n",
      " |-- STREET_NAME: string (nullable = true)\n",
      " |-- TRANSACTION_ID: long (nullable = true)\n",
      " |-- TRANSACTION_TYPE: string (nullable = true)\n",
      " |-- TRANSACTION_VALUE: double (nullable = true)\n",
      " |-- YEAR: long (nullable = true)\n",
      "\n",
      "+------+-----------+-----------+-----------+------------+------------+-------------+----------+----------------+---------+------------+----------+----------+---------+----------+--------+---+----------+---------+------------+-----------+-----+----+-----------+--------------+----------------+-----------------+----+\n",
      "|APT_NO|BRANCH_CITY|BRANCH_CODE|BRANCH_NAME|BRANCH_PHONE|BRANCH_STATE|BRANCH_STREET|BRANCH_ZIP|  CREDIT_CARD_NO|CUST_CITY|CUST_COUNTRY|CUST_EMAIL|CUST_PHONE| CUST_SSN|CUST_STATE|CUST_ZIP|DAY|FIRST_NAME|LAST_NAME|LAST_UPDATED|MIDDLE_NAME|MONTH| SSN|STREET_NAME|TRANSACTION_ID|TRANSACTION_TYPE|TRANSACTION_VALUE|YEAR|\n",
      "+------+-----------+-----------+-----------+------------+------------+-------------+----------+----------------+---------+------------+----------+----------+---------+----------+--------+---+----------+---------+------------+-----------+-----+----+-----------+--------------+----------------+-----------------+----+\n",
      "|  null|       null|        114|       null|        null|        null|         null|      null|4210653349028689|     null|        null|      null|      null|123459988|      null|    null| 14|      null|     null|        null|       null|    2|null|       null|             1|       Education|             78.9|2018|\n",
      "|  null|       null|         35|       null|        null|        null|         null|      null|4210653349028689|     null|        null|      null|      null|123459988|      null|    null| 20|      null|     null|        null|       null|    3|null|       null|             2|   Entertainment|            14.24|2018|\n",
      "|  null|       null|        160|       null|        null|        null|         null|      null|4210653349028689|     null|        null|      null|      null|123459988|      null|    null|  8|      null|     null|        null|       null|    7|null|       null|             3|         Grocery|             56.7|2018|\n",
      "|  null|       null|        114|       null|        null|        null|         null|      null|4210653349028689|     null|        null|      null|      null|123459988|      null|    null| 19|      null|     null|        null|       null|    4|null|       null|             4|   Entertainment|            59.73|2018|\n",
      "|  null|       null|         93|       null|        null|        null|         null|      null|4210653349028689|     null|        null|      null|      null|123459988|      null|    null| 10|      null|     null|        null|       null|   10|null|       null|             5|             Gas|             3.59|2018|\n",
      "|  null|       null|        164|       null|        null|        null|         null|      null|4210653349028689|     null|        null|      null|      null|123459988|      null|    null| 28|      null|     null|        null|       null|    5|null|       null|             6|       Education|             6.89|2018|\n",
      "|  null|       null|        119|       null|        null|        null|         null|      null|4210653349028689|     null|        null|      null|      null|123459988|      null|    null| 19|      null|     null|        null|       null|    5|null|       null|             7|   Entertainment|            43.39|2018|\n",
      "|  null|       null|         23|       null|        null|        null|         null|      null|4210653349028689|     null|        null|      null|      null|123459988|      null|    null|  8|      null|     null|        null|       null|    8|null|       null|             8|             Gas|            95.39|2018|\n",
      "|  null|       null|        166|       null|        null|        null|         null|      null|4210653349028689|     null|        null|      null|      null|123459988|      null|    null| 18|      null|     null|        null|       null|    3|null|       null|             9|   Entertainment|            93.26|2018|\n",
      "|  null|       null|         83|       null|        null|        null|         null|      null|4210653349028689|     null|        null|      null|      null|123459988|      null|    null|  3|      null|     null|        null|       null|    9|null|       null|            10|           Bills|           100.38|2018|\n",
      "|  null|       null|         52|       null|        null|        null|         null|      null|4210653349028689|     null|        null|      null|      null|123459988|      null|    null| 21|      null|     null|        null|       null|    8|null|       null|            11|             Gas|            98.75|2018|\n",
      "|  null|       null|         17|       null|        null|        null|         null|      null|4210653349028689|     null|        null|      null|      null|123459988|      null|    null| 24|      null|     null|        null|       null|   12|null|       null|            12|             Gas|            42.71|2018|\n",
      "|  null|       null|         80|       null|        null|        null|         null|      null|4210653349028689|     null|        null|      null|      null|123459988|      null|    null|  3|      null|     null|        null|       null|    4|null|       null|            13|         Grocery|            40.24|2018|\n",
      "|  null|       null|         50|       null|        null|        null|         null|      null|4210653349028689|     null|        null|      null|      null|123459988|      null|    null| 15|      null|     null|        null|       null|    4|null|       null|            14|           Bills|            17.81|2018|\n",
      "|  null|       null|        123|       null|        null|        null|         null|      null|4210653349028689|     null|        null|      null|      null|123459988|      null|    null| 17|      null|     null|        null|       null|    5|null|       null|            15|           Bills|             29.0|2018|\n",
      "|  null|       null|          9|       null|        null|        null|         null|      null|4210653349028689|     null|        null|      null|      null|123459988|      null|    null|  6|      null|     null|        null|       null|    7|null|       null|            16|            Test|            70.63|2018|\n",
      "|  null|       null|          3|       null|        null|        null|         null|      null|4210653349028689|     null|        null|      null|      null|123459988|      null|    null| 28|      null|     null|        null|       null|    9|null|       null|            17|            Test|            27.04|2018|\n",
      "|  null|       null|        135|       null|        null|        null|         null|      null|4210653349028689|     null|        null|      null|      null|123459988|      null|    null|  4|      null|     null|        null|       null|    7|null|       null|            18|   Entertainment|            88.75|2018|\n",
      "|  null|       null|        103|       null|        null|        null|         null|      null|4210653349028689|     null|        null|      null|      null|123459988|      null|    null| 24|      null|     null|        null|       null|    4|null|       null|            19|            Test|            77.02|2018|\n",
      "|  null|       null|         78|       null|        null|        null|         null|      null|4210653349028689|     null|        null|      null|      null|123459988|      null|    null|  8|      null|     null|        null|       null|   10|null|       null|            20|           Bills|            34.34|2018|\n",
      "+------+-----------+-----------+-----------+------------+------------+-------------+----------+----------------+---------+------------+----------+----------+---------+----------+--------+---+----------+---------+------------+-----------+-----+----+-----------+--------------+----------------+-----------------+----+\n",
      "only showing top 20 rows\n",
      "\n"
     ]
    }
   ],
   "source": [
    "# Read branch, credit and customer json files all at once into a dataframe and disply the first 20 rows. \n",
    "df = spark.read.json(['cdw_sapp_branch.json','cdw_sapp_credit.json','cdw_sapp_customer.json'])\n",
    "df.printSchema() # Return Schema\n",
    "df.show()        # Return the first 20 rows"
   ]
  },
  {
   "cell_type": "code",
   "execution_count": 20,
   "metadata": {},
   "outputs": [
    {
     "data": {
      "text/plain": [
       "['APT_NO',\n",
       " 'BRANCH_CITY',\n",
       " 'BRANCH_CODE',\n",
       " 'BRANCH_NAME',\n",
       " 'BRANCH_PHONE',\n",
       " 'BRANCH_STATE',\n",
       " 'BRANCH_STREET',\n",
       " 'BRANCH_ZIP',\n",
       " 'CREDIT_CARD_NO',\n",
       " 'CUST_CITY',\n",
       " 'CUST_COUNTRY',\n",
       " 'CUST_EMAIL',\n",
       " 'CUST_PHONE',\n",
       " 'CUST_SSN',\n",
       " 'CUST_STATE',\n",
       " 'CUST_ZIP',\n",
       " 'DAY',\n",
       " 'FIRST_NAME',\n",
       " 'LAST_NAME',\n",
       " 'LAST_UPDATED',\n",
       " 'MIDDLE_NAME',\n",
       " 'MONTH',\n",
       " 'SSN',\n",
       " 'STREET_NAME',\n",
       " 'TRANSACTION_ID',\n",
       " 'TRANSACTION_TYPE',\n",
       " 'TRANSACTION_VALUE',\n",
       " 'YEAR']"
      ]
     },
     "execution_count": 20,
     "metadata": {},
     "output_type": "execute_result"
    }
   ],
   "source": [
    "df.columns # Returns columns of dataframe"
   ]
  },
  {
   "cell_type": "code",
   "execution_count": 21,
   "metadata": {},
   "outputs": [
    {
     "data": {
      "text/plain": [
       "47761"
      ]
     },
     "execution_count": 21,
     "metadata": {},
     "output_type": "execute_result"
    }
   ],
   "source": [
    "df.count() # Counts number of rows in dataframe"
   ]
  },
  {
   "cell_type": "code",
   "execution_count": 22,
   "metadata": {},
   "outputs": [
    {
     "data": {
      "text/plain": [
       "47761"
      ]
     },
     "execution_count": 22,
     "metadata": {},
     "output_type": "execute_result"
    }
   ],
   "source": [
    "df.distinct().count() # Counts number of distinct rows in dataframe"
   ]
  },
  {
   "cell_type": "code",
   "execution_count": 23,
   "metadata": {},
   "outputs": [
    {
     "name": "stdout",
     "output_type": "stream",
     "text": [
      "== Physical Plan ==\n",
      "FileScan json [APT_NO#1051,BRANCH_CITY#1052,BRANCH_CODE#1053L,BRANCH_NAME#1054,BRANCH_PHONE#1055,BRANCH_STATE#1056,BRANCH_STREET#1057,BRANCH_ZIP#1058L,CREDIT_CARD_NO#1059,CUST_CITY#1060,CUST_COUNTRY#1061,CUST_EMAIL#1062,CUST_PHONE#1063L,CUST_SSN#1064L,CUST_STATE#1065,CUST_ZIP#1066,DAY#1067L,FIRST_NAME#1068,LAST_NAME#1069,LAST_UPDATED#1070,MIDDLE_NAME#1071,MONTH#1072L,SSN#1073L,STREET_NAME#1074,... 4 more fields] Batched: false, DataFilters: [], Format: JSON, Location: InMemoryFileIndex(3 paths)[file:/c:/Users/Neez/Documents/GitHub/Cap_Sone_Project/cdw_sapp_branch...., PartitionFilters: [], PushedFilters: [], ReadSchema: struct<APT_NO:string,BRANCH_CITY:string,BRANCH_CODE:bigint,BRANCH_NAME:string,BRANCH_PHONE:string...\n",
      "\n",
      "\n"
     ]
    }
   ],
   "source": [
    "df.explain() # Prints plans including physical and logical"
   ]
  },
  {
   "cell_type": "code",
   "execution_count": null,
   "metadata": {},
   "outputs": [],
   "source": []
  }
 ],
 "metadata": {
  "kernelspec": {
   "display_name": "Python 3.10.6 64-bit (windows store)",
   "language": "python",
   "name": "python3"
  },
  "language_info": {
   "codemirror_mode": {
    "name": "ipython",
    "version": 3
   },
   "file_extension": ".py",
   "mimetype": "text/x-python",
   "name": "python",
   "nbconvert_exporter": "python",
   "pygments_lexer": "ipython3",
   "version": "3.10.6"
  },
  "orig_nbformat": 4,
  "vscode": {
   "interpreter": {
    "hash": "ff3283616391cc51fd2bd3794eb3a12d244a22e4436b909d19860b81f3182aba"
   }
  }
 },
 "nbformat": 4,
 "nbformat_minor": 2
}
