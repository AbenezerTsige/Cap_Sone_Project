{
 "cells": [
  {
   "cell_type": "markdown",
   "metadata": {},
   "source": [
    "This program uses Pyspark SQL to extract customer, branch and card data from the provided json file."
   ]
  },
  {
   "cell_type": "code",
   "execution_count": 1,
   "metadata": {},
   "outputs": [],
   "source": [
    "# Import libraries \n",
    "import pyspark\n",
    "from pyspark.sql import SparkSession\n",
    "import pandas as pd\n",
    "from pyspark.sql.types import *\n",
    "from pyspark.sql.functions import * \n",
    "import matplotlib as mpl\n",
    "import matplotlib.pyplot as plt"
   ]
  },
  {
   "cell_type": "code",
   "execution_count": 2,
   "metadata": {},
   "outputs": [],
   "source": [
    "# Application to create Dataframes from source\n",
    "spark = SparkSession.builder.master('local[1]').appName('CreditCardSystems').getOrCreate() \n",
    "\n",
    "# Extract the JSON files branch, credit and customer into a dataframe\n",
    "df_branch = spark.read.json('cdw_sapp_branch.json')  \n",
    "df_credit = spark.read.json('cdw_sapp_credit.json') \n",
    "df_customer = spark.read.json('cdw_sapp_customer.json')\n",
    "\n",
    "# Register the DataFrame as a SQL temporary view\n",
    "df_credit.createOrReplaceTempView(\"credit\")\n",
    "df_customer.createOrReplaceTempView(\"customer\")\n",
    "df_branch.createOrReplaceTempView(\"branch\")"
   ]
  },
  {
   "cell_type": "markdown",
   "metadata": {},
   "source": [
    "# 1. Functional Requirements - Load Credit Card Database (SQL)"
   ]
  },
  {
   "cell_type": "markdown",
   "metadata": {},
   "source": [
    "<b>Data Extraction and Transformation with Python and PySpark. </b><br>\n",
    "For “Credit Card System,” create a Python and PySpark SQL program to read/extract the following JSON files according to the specifications found in the mapping document.\n",
    "1. CDW_SAPP_BRANCH.JSON <br>\n",
    "2. CDW_SAPP_CREDITCARD.JSON <br>\n",
    "3. CDW_SAPP_CUSTOMER.JSON <br>\n",
    "Note: Data Engineers will be required to transform the data based on the requirements found in the Mapping Document.\n",
    "Hint: [You can use PYSQL “select statement query” or simple Pyspark RDD]."
   ]
  },
  {
   "cell_type": "code",
   "execution_count": null,
   "metadata": {},
   "outputs": [],
   "source": [
    "# Application to create Dataframes from source\n",
    "spark = SparkSession.builder.master('local[1]').appName('CreditCardSystems').getOrCreate() \n",
    "\n",
    "# Extract the JSON files branch, credit and customer into a dataframe\n",
    "df_branch = spark.read.json('cdw_sapp_branch.json')  \n",
    "df_credit = spark.read.json('cdw_sapp_credit.json') \n",
    "df_customer = spark.read.json('cdw_sapp_customer.json')\n",
    "\n",
    "# Register the DataFrame as a SQL temporary view\n",
    "df_credit.createOrReplaceTempView(\"credit\")\n",
    "df_customer.createOrReplaceTempView(\"customer\")\n",
    "df_branch.createOrReplaceTempView(\"branch\")"
   ]
  },
  {
   "cell_type": "code",
   "execution_count": null,
   "metadata": {},
   "outputs": [],
   "source": [
    "# Adjust customer table acording to the mapping document \n",
    "\n",
    "# Convert first and last name to Title Case and middle name to lower case\n",
    "df_customer = df_customer.withColumn(\"FIRST_NAME\", initcap(df_customer[\"FIRST_NAME\"]))\n",
    "df_customer = df_customer.withColumn(\"MIDDLE_NAME\", lower(df_customer.MIDDLE_NAME))\n",
    "df_customer = df_customer.withColumn(\"LAST_NAME\", initcap(df_customer[\"LAST_NAME\"]))\n",
    "df_customer.select(\"FIRST_NAME\", \"MIDDLE_NAME\",\"LAST_NAME\").show(10)"
   ]
  },
  {
   "cell_type": "code",
   "execution_count": null,
   "metadata": {},
   "outputs": [],
   "source": [
    "# Concatenate Apartment no and Street name of customer's Residence with comma as a seperator (Street, Apartment)\n",
    "df_customer = df_customer.withColumn(\"FULL_STREET_ADDRESS\", concat(df_customer[\"APT_NO\"], lit(\",\") , df_customer[\"STREET_NAME\"]))\n",
    "df_customer.select(\"FULL_STREET_ADDRESS\").show(10)"
   ]
  },
  {
   "cell_type": "code",
   "execution_count": null,
   "metadata": {},
   "outputs": [],
   "source": [
    "# Change the format of phone number to XXX-XXXX\n",
    "df_customer.select(\"CUST_PHONE\").show(10)"
   ]
  },
  {
   "cell_type": "code",
   "execution_count": null,
   "metadata": {},
   "outputs": [],
   "source": [
    "# Grab the first the 3 digits \n",
    "df_customer = df_customer.withColumn('PHONE_1', split(df_customer['CUST_PHONE'], \"\\d{4}$\"))\n",
    "df_customer.select(\"PHONE_1\").show(10)"
   ]
  },
  {
   "cell_type": "code",
   "execution_count": null,
   "metadata": {},
   "outputs": [],
   "source": [
    "# Grab the last four digits \n",
    "df_customer = df_customer.withColumn('PHONE_2', split(df_customer['CUST_PHONE'], \"^\\d{3}\"))\n",
    "df_customer.select(\"PHONE_2\").show(10)"
   ]
  },
  {
   "cell_type": "code",
   "execution_count": null,
   "metadata": {},
   "outputs": [],
   "source": [
    "# Concat the first 3 and last 4 digits with - \n",
    "df_customer = df_customer.withColumn(\"CUST_PHONE_FORMATED\", concat(df_customer[\"PHONE_1\"], lit(\"-\") , df_customer[\"PHONE_2\"]))\n",
    "df_customer.select(\"CUST_PHONE_FORMATED\").show(10)"
   ]
  },
  {
   "cell_type": "code",
   "execution_count": null,
   "metadata": {},
   "outputs": [],
   "source": [
    "udf1 = udf(lambda x,y : x+y,ArrayType(StringType()))\n",
    "df_customer = df_customer.withColumn(\"CUST_PHONE_FORMATED\",udf1('PHONE_1','PHONE_2'))\n",
    "df_customer.select(\"CUST_PHONE_FORMATED\").show(10)"
   ]
  },
  {
   "cell_type": "code",
   "execution_count": null,
   "metadata": {},
   "outputs": [],
   "source": [
    "# Adjust branch table acording to the mapping document \n",
    "# if zipcode is null then load 000000\n",
    "#df_customer = df_customer.withColumn(\"FULL_STREET_ADDRESS\", concat)\n",
    "#df_branch.select(\"BRANCH_ZIP\").show(10)"
   ]
  },
  {
   "cell_type": "markdown",
   "metadata": {},
   "source": [
    "<b>Data loading into Database </b><br>\n",
    "Once PySpark reads data from JSON files, and then utilizes Python, PySpark, and Python modules to load data into RDBMS(SQL), perform\n",
    "the following: <br>\n",
    "a) Create a Database in SQL(MariaDB), named “creditcard_capstone.” <br>\n",
    "b) Create a Python and Pyspark Program to load/write the “Credit Card System Data” into RDBMS(creditcard_capstone). <br>\n",
    "Tables should be created by the following names in RDBMS: <br>\n",
    "CDW_SAPP_BRANCH <br>\n",
    "CDW_SAPP_CREDIT_CARD <br>\n",
    "CDW_SAPP_CUSTOMER <br>"
   ]
  },
  {
   "cell_type": "code",
   "execution_count": null,
   "metadata": {},
   "outputs": [],
   "source": [
    "# Create the table CDW_SAPP_BRANCH \n",
    "df_branch.write.format(\"jdbc\") \\\n",
    ".mode(\"append\") \\\n",
    ".option(\"url\", \"jdbc:mysql://localhost:3306/creditcard_capstone\") \\\n",
    ".option(\"dbtable\", \"creditcard_capstone.CDW_SAPP_BRANCH\") \\\n",
    ".option(\"user\", \"root\") \\\n",
    ".option(\"password\", \"a\") \\\n",
    ".save()"
   ]
  },
  {
   "cell_type": "code",
   "execution_count": null,
   "metadata": {},
   "outputs": [],
   "source": [
    "# Create the table CDW_SAPP_CREDIT_CARD \n",
    "df_credit.write.format(\"jdbc\") \\\n",
    ".mode(\"append\") \\\n",
    ".option(\"url\", \"jdbc:mysql://localhost:3306/creditcard_capstone\") \\\n",
    ".option(\"dbtable\", \"creditcard_capstone.CDW_SAPP_CREDIT_CARD\") \\\n",
    ".option(\"user\", \"root\") \\\n",
    ".option(\"password\", \"a\") \\\n",
    ".save()"
   ]
  },
  {
   "cell_type": "code",
   "execution_count": null,
   "metadata": {},
   "outputs": [],
   "source": [
    "# Create the table CDW_SAPP_CUSTOMER \n",
    "df_customer.write.format(\"jdbc\") \\\n",
    ".mode(\"append\") \\\n",
    ".option(\"url\", \"jdbc:mysql://localhost:3306/creditcard_capstone\") \\\n",
    ".option(\"dbtable\", \"creditcard_capstone.CDW_SAPP_CUSTOMER\") \\\n",
    ".option(\"user\", \"root\") \\\n",
    ".option(\"password\", \"a\") \\\n",
    ".save()"
   ]
  },
  {
   "cell_type": "markdown",
   "metadata": {},
   "source": [
    "# 2. Functional Requirements - Application Front-End\n",
    "Once data is loaded into the database, we need a front-end (console) to see/display data. For that, create a console-based Python program to satisfy System Requirements 2 (2.1 and 2.2)."
   ]
  },
  {
   "cell_type": "markdown",
   "metadata": {},
   "source": [
    "<b> Req-2.1 Transaction Details Module </b><br>\n",
    "1) Used to display the transactions made by customers living in a given zip code for a given month and year. Order by day in\n",
    "descending order. <br>\n",
    "2) Used to display the number and total values of transactions for a given type.<br>\n",
    "3) Used to display the number and total values of transactions for branches in a given state.<br>"
   ]
  },
  {
   "cell_type": "markdown",
   "metadata": {},
   "source": [
    "# 2.1.1 Order by day in descending order."
   ]
  },
  {
   "cell_type": "code",
   "execution_count": null,
   "metadata": {},
   "outputs": [],
   "source": [
    "# Input fo rmonth, year and zipcode\n",
    "Month = 8 # Holds the input value for month     | 8\n",
    "Year = 2018  # Holds the input value for year   | 2018\n",
    "Zipcode = 39120 # Holds the input value for zipcode | 39120\n",
    "\n",
    "# Use cdw_app_credit_card table to get TRANSACTION_VALUE, DAY, MONTH AND YEAR\n",
    "# Use cdw_app_customer to get CUST_ZIP \n",
    "\n",
    "sel = \"SELECT customer.CUST_ZIP, credit.DAY, credit.MONTH, credit.YEAR, credit.TRANSACTION_TYPE, credit.TRANSACTION_VALUE\"\n",
    "frm = \" FROM credit, customer\"\n",
    "where = \" WHERE credit.YEAR = \" + str(Year) + \" AND credit.MONTH = \" + str(Month) + \" AND customer.CUST_ZIP = \" + str(Zipcode)\n",
    "ordr = \" ORDER BY credit.DAY DESC\" # Order by ascending \n",
    "\n",
    "sqlCredit = spark.sql(sel + frm + where + ordr)\n",
    "sqlCredit.show(20)\n"
   ]
  },
  {
   "cell_type": "markdown",
   "metadata": {},
   "source": [
    "# 2.1.2 Display the number and total values of transactions for a given type"
   ]
  },
  {
   "cell_type": "code",
   "execution_count": null,
   "metadata": {},
   "outputs": [],
   "source": [
    "# Input for a given transaction type \n",
    "transact_type = \"Bills\"\n",
    "\n",
    "sel = \"SELECT TRANSACTION_ID, TRANSACTION_TYPE, TRANSACTION_VALUE\"\n",
    "frm = \" FROM credit\"\n",
    "where = \" WHERE TRANSACTION_TYPE = \" + \"\\\"\"+ transact_type + \"\\\"\"\n",
    "sqlCredit = spark.sql(sel + frm + where)\n",
    "sqlCredit.show(20)"
   ]
  },
  {
   "cell_type": "markdown",
   "metadata": {},
   "source": [
    "# 2.1.3 Display the number and total values of transactions for branches in a given state"
   ]
  },
  {
   "cell_type": "code",
   "execution_count": null,
   "metadata": {},
   "outputs": [],
   "source": [
    "# Register the DataFrame as a SQL temporary view\n",
    "df_branch.createOrReplaceTempView(\"branch\")\n",
    "\n",
    "# Input for a given state\n",
    "state = \"TX\"\n",
    "\n",
    "sel = \"SELECT branch.BRANCH_STATE, credit.TRANSACTION_ID, credit.TRANSACTION_VALUE\"\n",
    "frm = \" FROM branch, credit\"\n",
    "where = \" WHERE branch.BRANCH_STATE = \" + \"\\\"\"+ state + \"\\\"\"\n",
    "sqlCredit = spark.sql(sel + frm + where)\n",
    "sqlCredit.show(20)"
   ]
  },
  {
   "cell_type": "markdown",
   "metadata": {},
   "source": [
    "<b>Req-2.2 Customer Details </b><br>\n",
    "1) Used to check the existing account details of a customer.<br>\n",
    "2) Used to modify the existing account details of a customer.<br>\n",
    "3) Used to generate a monthly bill for a credit card number for a given month and year. <br>\n",
    "4) Used to display the transactions made by a customer between two dates. Order by year, month, and day in descending order. <br>"
   ]
  },
  {
   "cell_type": "markdown",
   "metadata": {},
   "source": [
    "# 2.2.1 Check the existing account details of a customer\n"
   ]
  },
  {
   "cell_type": "code",
   "execution_count": null,
   "metadata": {},
   "outputs": [],
   "source": [
    "# Input customer name\n",
    "first_name = \"Alec\"\n",
    "last_name = \"Hooper\"\n",
    "\n",
    "sel = \"SELECT APT_NO, CREDIT_CARD_NO, CUST_CITY, CUST_COUNTRY, CUST_EMAIL, CUST_PHONE, CUST_STATE, CUST_ZIP\"\n",
    "frm = \" FROM customer\"\n",
    "where = \" WHERE FIRST_NAME = \" + \"\\\"\"+ first_name + \"\\\"\" + \"AND LAST_NAME = \" + \"\\\"\" + last_name + \"\\\"\"\n",
    "sqlCredit = spark.sql(sel + frm + where)\n",
    "sqlCredit.show(20)\n"
   ]
  },
  {
   "cell_type": "markdown",
   "metadata": {},
   "source": [
    "# 2.2.2 Modify the exsiting account details of a customer\n"
   ]
  },
  {
   "cell_type": "code",
   "execution_count": null,
   "metadata": {},
   "outputs": [],
   "source": [
    "# ALTER DATABASE inventory SET DBPROPERTIES ('Edited-by' = 'John', 'Edit-date' = '01/01/2001');"
   ]
  },
  {
   "cell_type": "markdown",
   "metadata": {},
   "source": [
    "# 2.2.3 Generate a monthly bill for a credit card number for a given month and year\n"
   ]
  },
  {
   "cell_type": "code",
   "execution_count": null,
   "metadata": {},
   "outputs": [],
   "source": [
    "# Input for month and year bill\n",
    "month_bill = 8\n",
    "year_bill = 2018\n",
    "card_number = 4210653310061055\n",
    "\n",
    "sel = \"SELECT credit.CREDIT_CARD_NO, credit.YEAR, credit.MONTH, SUM(credit.TRANSACTION_VALUE)\"\n",
    "frm = \" FROM credit\"\n",
    "where = \" WHERE CREDIT_CARD_NO = \" + str(card_number) + \" AND MONTH = \" + str(month_bill) + \" AND YEAR = \" + str(year_bill) \n",
    "grp_by = \"GROUP BY CREDIT_CARD_NO\"\n",
    "\n",
    "sql_bill = spark.sql(sel + frm + where + grp_by)\n",
    "sql_bill.show(20)\n",
    "\n"
   ]
  },
  {
   "cell_type": "markdown",
   "metadata": {},
   "source": [
    "# 2.2.4 Display the transactions made by a customer between two date. Order by year, month, and day in desc. "
   ]
  },
  {
   "cell_type": "code",
   "execution_count": null,
   "metadata": {},
   "outputs": [],
   "source": [
    "# Input for the two dates\n",
    "Day_1 = 8\n",
    "Day_2 = 14\n",
    "\n",
    "sel = \"SELECT YEAR, MONTH, DAY, TRANSACTION_VALUE\"\n",
    "frm = \" FROM credit\"\n",
    "where = \" WHERE DAY BETWEEN \" + str(Day_1) + \" AND \" + str(Day_2) \n",
    "ordr_by = \" ORDER BY YEAR, MONTH, DAY DESC\"\n",
    "\n",
    "sql_two_date = spark.sql(sel + frm + where + ordr_by )\n",
    "sql_two_date.show(20)\n"
   ]
  },
  {
   "cell_type": "markdown",
   "metadata": {},
   "source": [
    "# 3 - Functional Requirements - Data analysis and Visualization"
   ]
  },
  {
   "cell_type": "markdown",
   "metadata": {},
   "source": [
    "After data is loaded into the database, users can make changes from the front end, and they can also view data from the front end. Now, the business analyst team wants to analyze and visualize the data according to the below requirements."
   ]
  },
  {
   "cell_type": "markdown",
   "metadata": {},
   "source": [
    "\n",
    "# 3.1 Find and plot which transaction type has a high rate of transactions"
   ]
  },
  {
   "cell_type": "code",
   "execution_count": 3,
   "metadata": {},
   "outputs": [
    {
     "data": {
      "text/html": [
       "<div>\n",
       "<style scoped>\n",
       "    .dataframe tbody tr th:only-of-type {\n",
       "        vertical-align: middle;\n",
       "    }\n",
       "\n",
       "    .dataframe tbody tr th {\n",
       "        vertical-align: top;\n",
       "    }\n",
       "\n",
       "    .dataframe thead th {\n",
       "        text-align: right;\n",
       "    }\n",
       "</style>\n",
       "<table border=\"1\" class=\"dataframe\">\n",
       "  <thead>\n",
       "    <tr style=\"text-align: right;\">\n",
       "      <th></th>\n",
       "      <th>BRANCH_CODE</th>\n",
       "      <th>CREDIT_CARD_NO</th>\n",
       "      <th>CUST_SSN</th>\n",
       "      <th>DAY</th>\n",
       "      <th>MONTH</th>\n",
       "      <th>TRANSACTION_ID</th>\n",
       "      <th>TRANSACTION_TYPE</th>\n",
       "      <th>TRANSACTION_VALUE</th>\n",
       "      <th>YEAR</th>\n",
       "    </tr>\n",
       "  </thead>\n",
       "  <tbody>\n",
       "    <tr>\n",
       "      <th>0</th>\n",
       "      <td>114</td>\n",
       "      <td>4210653349028689</td>\n",
       "      <td>123459988</td>\n",
       "      <td>14</td>\n",
       "      <td>2</td>\n",
       "      <td>1</td>\n",
       "      <td>Education</td>\n",
       "      <td>78.90</td>\n",
       "      <td>2018</td>\n",
       "    </tr>\n",
       "    <tr>\n",
       "      <th>1</th>\n",
       "      <td>35</td>\n",
       "      <td>4210653349028689</td>\n",
       "      <td>123459988</td>\n",
       "      <td>20</td>\n",
       "      <td>3</td>\n",
       "      <td>2</td>\n",
       "      <td>Entertainment</td>\n",
       "      <td>14.24</td>\n",
       "      <td>2018</td>\n",
       "    </tr>\n",
       "    <tr>\n",
       "      <th>2</th>\n",
       "      <td>160</td>\n",
       "      <td>4210653349028689</td>\n",
       "      <td>123459988</td>\n",
       "      <td>8</td>\n",
       "      <td>7</td>\n",
       "      <td>3</td>\n",
       "      <td>Grocery</td>\n",
       "      <td>56.70</td>\n",
       "      <td>2018</td>\n",
       "    </tr>\n",
       "    <tr>\n",
       "      <th>3</th>\n",
       "      <td>114</td>\n",
       "      <td>4210653349028689</td>\n",
       "      <td>123459988</td>\n",
       "      <td>19</td>\n",
       "      <td>4</td>\n",
       "      <td>4</td>\n",
       "      <td>Entertainment</td>\n",
       "      <td>59.73</td>\n",
       "      <td>2018</td>\n",
       "    </tr>\n",
       "    <tr>\n",
       "      <th>4</th>\n",
       "      <td>93</td>\n",
       "      <td>4210653349028689</td>\n",
       "      <td>123459988</td>\n",
       "      <td>10</td>\n",
       "      <td>10</td>\n",
       "      <td>5</td>\n",
       "      <td>Gas</td>\n",
       "      <td>3.59</td>\n",
       "      <td>2018</td>\n",
       "    </tr>\n",
       "    <tr>\n",
       "      <th>...</th>\n",
       "      <td>...</td>\n",
       "      <td>...</td>\n",
       "      <td>...</td>\n",
       "      <td>...</td>\n",
       "      <td>...</td>\n",
       "      <td>...</td>\n",
       "      <td>...</td>\n",
       "      <td>...</td>\n",
       "      <td>...</td>\n",
       "    </tr>\n",
       "    <tr>\n",
       "      <th>46689</th>\n",
       "      <td>49</td>\n",
       "      <td>4210653344660822</td>\n",
       "      <td>123451007</td>\n",
       "      <td>12</td>\n",
       "      <td>9</td>\n",
       "      <td>46690</td>\n",
       "      <td>Gas</td>\n",
       "      <td>66.20</td>\n",
       "      <td>2018</td>\n",
       "    </tr>\n",
       "    <tr>\n",
       "      <th>46690</th>\n",
       "      <td>168</td>\n",
       "      <td>4210653344660822</td>\n",
       "      <td>123451007</td>\n",
       "      <td>5</td>\n",
       "      <td>2</td>\n",
       "      <td>46691</td>\n",
       "      <td>Grocery</td>\n",
       "      <td>100.13</td>\n",
       "      <td>2018</td>\n",
       "    </tr>\n",
       "    <tr>\n",
       "      <th>46691</th>\n",
       "      <td>104</td>\n",
       "      <td>4210653344660822</td>\n",
       "      <td>123451007</td>\n",
       "      <td>16</td>\n",
       "      <td>12</td>\n",
       "      <td>46692</td>\n",
       "      <td>Test</td>\n",
       "      <td>35.83</td>\n",
       "      <td>2018</td>\n",
       "    </tr>\n",
       "    <tr>\n",
       "      <th>46692</th>\n",
       "      <td>32</td>\n",
       "      <td>4210653344660822</td>\n",
       "      <td>123451007</td>\n",
       "      <td>15</td>\n",
       "      <td>1</td>\n",
       "      <td>46693</td>\n",
       "      <td>Entertainment</td>\n",
       "      <td>90.99</td>\n",
       "      <td>2018</td>\n",
       "    </tr>\n",
       "    <tr>\n",
       "      <th>46693</th>\n",
       "      <td>45</td>\n",
       "      <td>4210653344660822</td>\n",
       "      <td>123451007</td>\n",
       "      <td>17</td>\n",
       "      <td>11</td>\n",
       "      <td>46694</td>\n",
       "      <td>Healthcare</td>\n",
       "      <td>82.29</td>\n",
       "      <td>2018</td>\n",
       "    </tr>\n",
       "  </tbody>\n",
       "</table>\n",
       "<p>46694 rows × 9 columns</p>\n",
       "</div>"
      ],
      "text/plain": [
       "       BRANCH_CODE    CREDIT_CARD_NO   CUST_SSN  DAY  MONTH  TRANSACTION_ID  \\\n",
       "0              114  4210653349028689  123459988   14      2               1   \n",
       "1               35  4210653349028689  123459988   20      3               2   \n",
       "2              160  4210653349028689  123459988    8      7               3   \n",
       "3              114  4210653349028689  123459988   19      4               4   \n",
       "4               93  4210653349028689  123459988   10     10               5   \n",
       "...            ...               ...        ...  ...    ...             ...   \n",
       "46689           49  4210653344660822  123451007   12      9           46690   \n",
       "46690          168  4210653344660822  123451007    5      2           46691   \n",
       "46691          104  4210653344660822  123451007   16     12           46692   \n",
       "46692           32  4210653344660822  123451007   15      1           46693   \n",
       "46693           45  4210653344660822  123451007   17     11           46694   \n",
       "\n",
       "      TRANSACTION_TYPE  TRANSACTION_VALUE  YEAR  \n",
       "0            Education              78.90  2018  \n",
       "1        Entertainment              14.24  2018  \n",
       "2              Grocery              56.70  2018  \n",
       "3        Entertainment              59.73  2018  \n",
       "4                  Gas               3.59  2018  \n",
       "...                ...                ...   ...  \n",
       "46689              Gas              66.20  2018  \n",
       "46690          Grocery             100.13  2018  \n",
       "46691             Test              35.83  2018  \n",
       "46692    Entertainment              90.99  2018  \n",
       "46693       Healthcare              82.29  2018  \n",
       "\n",
       "[46694 rows x 9 columns]"
      ]
     },
     "execution_count": 3,
     "metadata": {},
     "output_type": "execute_result"
    }
   ],
   "source": [
    "# Bargraph \n",
    "#x = transaction type \n",
    "#y = transactions per type\n",
    "df_credit_pd = df_credit.toPandas()\n",
    "df_credit_pd"
   ]
  },
  {
   "cell_type": "code",
   "execution_count": null,
   "metadata": {},
   "outputs": [],
   "source": [
    "df_transact = df_credit_pd[['TRANSACTION_TYPE','TRANSACTION_VALUE']]\n",
    "df_transact = df_transact.groupby(['TRANSACTION_TYPE'])['TRANSACTION_VALUE'].sum()\n"
   ]
  },
  {
   "cell_type": "code",
   "execution_count": null,
   "metadata": {},
   "outputs": [],
   "source": [
    "df_transact.plot(kind='bar', figsize=(10, 6))\n",
    "\n",
    "plt.xlabel('Transaction Type') # add to x-label to the plot\n",
    "plt.ylabel('Number of transactions') # add y-label to the plot\n",
    "plt.title('Transaction Rate For Every Transaction Type') # add title to the plot\n",
    "\n",
    "plt.show()"
   ]
  },
  {
   "cell_type": "markdown",
   "metadata": {},
   "source": [
    "\n",
    "# 3.2 Find and plot which state has a high number of customers\n",
    "# 3.3 Find and plot the sum of all transactions for each customer, and which customer has the highest transaction amount.hint(use CUST_SSN)\n",
    "\n"
   ]
  },
  {
   "cell_type": "markdown",
   "metadata": {},
   "source": [
    "# 4. Functional Requirements - LOAN Application Dataset"
   ]
  },
  {
   "cell_type": "markdown",
   "metadata": {},
   "source": [
    "1. Create a Python program to GET (consume) data from the above API endpoint for the loan application dataset. <br>\n",
    "2. Find the status code of the above API endpoint. <br>\n",
    "3. Once Python reads data from the API, utilize PySpark to load data into RDBMS(SQL). The table name should be CDW-SAPP_loan_application in the database."
   ]
  },
  {
   "cell_type": "markdown",
   "metadata": {},
   "source": [
    "# 5 - Functional Requirements - Data Analysis and Visualization for Loan Application"
   ]
  },
  {
   "cell_type": "markdown",
   "metadata": {},
   "source": [
    "1. Find and plot the percentage of applications approved for self-employed applicants. <br>\n",
    "2. Find the percentage of rejection for married male applicants. <br>\n",
    "3. Find and plot the top three months with the largest transaction data.<br>\n",
    "4. Find and plot which branch processed the highest total dollar value of healthcare transactions."
   ]
  },
  {
   "cell_type": "markdown",
   "metadata": {},
   "source": []
  }
 ],
 "metadata": {
  "kernelspec": {
   "display_name": "Python 3 (ipykernel)",
   "language": "python",
   "name": "python3"
  },
  "language_info": {
   "codemirror_mode": {
    "name": "ipython",
    "version": 3
   },
   "file_extension": ".py",
   "mimetype": "text/x-python",
   "name": "python",
   "nbconvert_exporter": "python",
   "pygments_lexer": "ipython3",
   "version": "3.9.12"
  },
  "vscode": {
   "interpreter": {
    "hash": "ff3283616391cc51fd2bd3794eb3a12d244a22e4436b909d19860b81f3182aba"
   }
  }
 },
 "nbformat": 4,
 "nbformat_minor": 2
}
